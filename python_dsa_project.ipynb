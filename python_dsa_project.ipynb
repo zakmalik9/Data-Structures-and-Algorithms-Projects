{
 "cells": [
  {
   "cell_type": "markdown",
   "id": "032b8696",
   "metadata": {
    "id": "032b8696"
   },
   "source": [
    "# Minimum Path Sum\n",
    "\n",
    "\n"
   ]
  },
  {
   "cell_type": "markdown",
   "id": "498b8354",
   "metadata": {
    "id": "498b8354"
   },
   "source": [
    "## Problem Statement\n",
    "\n",
    "\n",
    "> Given a m x n grid filled with non-negative numbers, find a path from top left to bottom right, which minimizes the sum of all numbers along its path (You can only move either down or right at any point in time).\n",
    "\n",
    "\n",
    "Source: https://leetcode.com/problems/minimum-path-sum/description/"
   ]
  },
  {
   "cell_type": "markdown",
   "id": "3fbafe24",
   "metadata": {
    "id": "3fbafe24"
   },
   "source": [
    "## The Method\n",
    "\n",
    "Here's the systematic strategy we'll apply for solving problems:\n",
    "\n",
    "1. State the problem clearly. Identify the input & output formats.\n",
    "2. Come up with some example inputs & outputs. Try to cover all edge cases.\n",
    "3. Come up with a correct solution for the problem. State it in plain English.\n",
    "4. Implement the solution and test it using example inputs. Fix bugs, if any.\n",
    "5. Analyze the algorithm's complexity and identify inefficiencies, if any.\n",
    "6. Apply the right technique to overcome the inefficiency. Repeat steps 3 to 6.\n",
    "\n"
   ]
  },
  {
   "cell_type": "code",
   "execution_count": 1,
   "id": "sG6YyNHT-3CA",
   "metadata": {
    "id": "sG6YyNHT-3CA"
   },
   "outputs": [],
   "source": [
    "!pip install jovian --upgrade --quiet\n",
    "import jovian\n",
    "from jovian.pythondsa import evaluate_test_cases"
   ]
  },
  {
   "cell_type": "markdown",
   "id": "cb03432d",
   "metadata": {
    "id": "cb03432d"
   },
   "source": [
    "## Solution\n",
    "\n",
    "\n"
   ]
  },
  {
   "cell_type": "markdown",
   "id": "8jPV5zEB_0_c",
   "metadata": {
    "id": "8jPV5zEB_0_c"
   },
   "source": [
    "### 1. State the problem clearly. Identify the input & output formats.\n",
    "\n",
    "While this problem is stated clearly enough, it's always useful to try and express in your own words, in a way that makes it most clear for you.\n",
    "\n",
    "\n",
    "**Problem**\n",
    "\n",
    "> We need to write a program to efficiently calculate the sum of the shortest path from the top left to bottom right of the array.\n",
    "\n",
    "<br/>\n",
    "\n",
    "\n",
    "**Input**\n",
    "1. ``` grid: ``` A 2D Array of numbers.\n",
    "\n",
    "**Output**\n",
    "\n",
    "1. ``` ans: ``` A number representing the shortest path length.\n",
    "\n",
    "\n",
    "\n",
    "\n",
    "<br/>\n",
    "\n",
    "Based on the above, we can now create a signature of our function:"
   ]
  },
  {
   "cell_type": "code",
   "execution_count": 2,
   "id": "c54b0e6f",
   "metadata": {
    "id": "c54b0e6f"
   },
   "outputs": [],
   "source": [
    "def minPathSum(grid):\n",
    "  pass"
   ]
  },
  {
   "cell_type": "markdown",
   "id": "32fb5cb6",
   "metadata": {
    "id": "32fb5cb6"
   },
   "source": [
    "### 2. Come up with some example inputs & outputs. Try to cover all edge cases.\n",
    "\n",
    "Our function should be able to handle any set of valid inputs we pass into it. Here's a list of some possible variations we might encounter:\n",
    "\n",
    "1. A normal array with equal dimensions.\n",
    "2. An array with unequal dimensions.\n",
    "3. An array containing zeros.\n",
    "4. An array of dimensions 1 x n.\n",
    "5. An array of dimensions m x 1.\n",
    "6. An array of dimensions 1 x 1.\n",
    "\n",
    "\n",
    "\n",
    "\n",
    "We'll express our test cases as dictionaries, to test them easily. Each dictionary will contain 2 keys: `input` (a dictionary itself containing one key for each argument to the function and `output` (the expected result from the function)."
   ]
  },
  {
   "cell_type": "code",
   "execution_count": 3,
   "id": "c15f60ab",
   "metadata": {
    "id": "c15f60ab"
   },
   "outputs": [],
   "source": [
    "test = {\n",
    "    'input': {\n",
    "        'grid':[[1,3,1],[1,5,1],[4,2,1]]\n",
    "    },\n",
    "    'output': 7\n",
    "}"
   ]
  },
  {
   "cell_type": "markdown",
   "id": "d3918dc2",
   "metadata": {
    "id": "d3918dc2"
   },
   "source": [
    "Create one test case for each of the scenarios listed above. We'll store our test cases in an array called `tests`."
   ]
  },
  {
   "cell_type": "code",
   "execution_count": 4,
   "id": "149da67e",
   "metadata": {
    "id": "149da67e"
   },
   "outputs": [],
   "source": [
    "tests = []"
   ]
  },
  {
   "cell_type": "code",
   "execution_count": 5,
   "id": "f8570aca",
   "metadata": {
    "id": "f8570aca"
   },
   "outputs": [],
   "source": [
    "tests.append(test)"
   ]
  },
  {
   "cell_type": "code",
   "execution_count": 6,
   "id": "545b0a50",
   "metadata": {
    "id": "545b0a50"
   },
   "outputs": [],
   "source": [
    "tests.append({\n",
    "    'input': {\n",
    "        'grid':[[1,2,3],[4,5,6]]\n",
    "    },\n",
    "    'output': 12\n",
    "})"
   ]
  },
  {
   "cell_type": "code",
   "execution_count": 7,
   "id": "9f85c58c",
   "metadata": {
    "id": "9f85c58c"
   },
   "outputs": [],
   "source": [
    "tests.append({\n",
    "    'input': {\n",
    "        'grid':[[1,3,1],[1,0,1],[4,2,0],[0,0,0]]\n",
    "    },\n",
    "    'output': 3\n",
    "})"
   ]
  },
  {
   "cell_type": "code",
   "execution_count": 8,
   "id": "rw-YND6CkLdy",
   "metadata": {
    "id": "rw-YND6CkLdy"
   },
   "outputs": [],
   "source": [
    "tests.append({\n",
    "    'input': {\n",
    "        'grid':[[1,2,3]]\n",
    "    },\n",
    "    'output': 6\n",
    "})"
   ]
  },
  {
   "cell_type": "code",
   "execution_count": 9,
   "id": "Wi-r-FQckNng",
   "metadata": {
    "id": "Wi-r-FQckNng"
   },
   "outputs": [],
   "source": [
    "tests.append({\n",
    "    'input': {\n",
    "        'grid':[[1],[4],[2]]\n",
    "    },\n",
    "    'output': 7\n",
    "})"
   ]
  },
  {
   "cell_type": "code",
   "execution_count": 10,
   "id": "SQ_jhM35kOQ9",
   "metadata": {
    "id": "SQ_jhM35kOQ9"
   },
   "outputs": [],
   "source": [
    "tests.append({\n",
    "    'input': {\n",
    "        'grid':[[1]]\n",
    "    },\n",
    "    'output': 1\n",
    "})"
   ]
  },
  {
   "cell_type": "code",
   "execution_count": 11,
   "id": "XFt1vGgwkrli",
   "metadata": {
    "id": "XFt1vGgwkrli"
   },
   "outputs": [],
   "source": [
    "tests.append({\n",
    "    'input': {\n",
    "        'grid':\n",
    "[[74, 100, 100, 100, 45, 100, 100, 100, 100, 100], [100, 43, 100, 4, 100, 100, 100, 100, 100, 100], [100, 100, 61, 100, 100, 100, 100, 100, 98, 100], [13, 100, 100, 100, 100, 100, 80, 100, 100, 100], [100, 100, 100, 100, 100, 92, 100, 100, 2, 100], [100, 100, 100, 100, 100, 100, 31, 100, 100, 100], [50, 25, 100, 100, 100, 100, 100, 100, 100, 100], [100, 14, 100, 100, 64, 37, 100, 100, 100, 95]]\n",
    "    },\n",
    "    'output': 1272\n",
    "})"
   ]
  },
  {
   "cell_type": "markdown",
   "id": "LcDO_h7eOhs9",
   "metadata": {
    "id": "LcDO_h7eOhs9"
   },
   "source": [
    "### 3. Come up with a correct solution for the problem. State it in plain English."
   ]
  },
  {
   "cell_type": "markdown",
   "id": "B7g9uCYfO828",
   "metadata": {
    "id": "B7g9uCYfO828"
   },
   "source": [
    "1. Using a Recursive Function ```recurse``` to find the minimum path sum of a cell, we just call the function on the cells to the right and below it, find the smaller of the two and add the value of the cell to it.\n",
    "2. The terminating conditions are when we reach the last column, last row, and the last cell (for which we need to calculate the sum).\n",
    "3. If we are on last cell, we just return the value of the cell.\n",
    "4. If we are on last column, we call function on cell below it and add value of the cell.\n",
    "5. If we are on last row, we call function on cell right of it and add value of the cell.\n",
    "6. We define this recurse function inside our ```minPathSum``` function and just call ```recurse(0, 0)``` to find the answer.   "
   ]
  },
  {
   "cell_type": "markdown",
   "id": "XD4gkMDFOj-b",
   "metadata": {
    "id": "XD4gkMDFOj-b"
   },
   "source": [
    "### 4. Implement the solution and test it using example inputs. Fix bugs, if any."
   ]
  },
  {
   "cell_type": "code",
   "execution_count": 12,
   "id": "QCWi-3oDO9zC",
   "metadata": {
    "id": "QCWi-3oDO9zC"
   },
   "outputs": [],
   "source": [
    "def minPathSum(grid):\n",
    "    m = len(grid) - 1\n",
    "    n = len(grid[0]) - 1\n",
    "    def recurse(i, j):\n",
    "        if i == m and j == n:\n",
    "            return grid[m][n]\n",
    "        if i == m:\n",
    "            return grid[i][j] + recurse(m, j+1)\n",
    "        elif j == n:\n",
    "            return grid[i][j] + recurse(i+1, n)\n",
    "        return grid[i][j] + min(recurse(i, j+1), recurse(i+1, j))\n",
    "    return recurse(0, 0)"
   ]
  },
  {
   "cell_type": "markdown",
   "id": "fRwMzYBjO_ME",
   "metadata": {
    "id": "fRwMzYBjO_ME"
   },
   "source": [
    "Evaluate your function against all the test cases together using the evaluate_test_cases (plural) function from jovian."
   ]
  },
  {
   "cell_type": "code",
   "execution_count": 13,
   "id": "5N6uDD1jO_id",
   "metadata": {
    "colab": {
     "base_uri": "https://localhost:8080/"
    },
    "id": "5N6uDD1jO_id",
    "outputId": "7aeacbbd-4f37-40e4-e127-258862dea36d"
   },
   "outputs": [
    {
     "name": "stdout",
     "output_type": "stream",
     "text": [
      "\n",
      "\u001b[1mTEST CASE #0\u001b[0m\n",
      "\n",
      "Input:\n",
      "{'grid': [[1, 3, 1], [1, 5, 1], [4, 2, 1]]}\n",
      "\n",
      "Expected Output:\n",
      "7\n",
      "\n",
      "\n",
      "Actual Output:\n",
      "7\n",
      "\n",
      "Execution Time:\n",
      "0.018 ms\n",
      "\n",
      "Test Result:\n",
      "\u001b[92mPASSED\u001b[0m\n",
      "\n",
      "\n",
      "\u001b[1mTEST CASE #1\u001b[0m\n",
      "\n",
      "Input:\n",
      "{'grid': [[1, 2, 3], [4, 5, 6]]}\n",
      "\n",
      "Expected Output:\n",
      "12\n",
      "\n",
      "\n",
      "Actual Output:\n",
      "12\n",
      "\n",
      "Execution Time:\n",
      "0.008 ms\n",
      "\n",
      "Test Result:\n",
      "\u001b[92mPASSED\u001b[0m\n",
      "\n",
      "\n",
      "\u001b[1mTEST CASE #2\u001b[0m\n",
      "\n",
      "Input:\n",
      "{'grid': [[1, 3, 1], [1, 0, 1], [4, 2, 0], [0, 0, 0]]}\n",
      "\n",
      "Expected Output:\n",
      "3\n",
      "\n",
      "\n",
      "Actual Output:\n",
      "3\n",
      "\n",
      "Execution Time:\n",
      "0.015 ms\n",
      "\n",
      "Test Result:\n",
      "\u001b[92mPASSED\u001b[0m\n",
      "\n",
      "\n",
      "\u001b[1mTEST CASE #3\u001b[0m\n",
      "\n",
      "Input:\n",
      "{'grid': [[1, 2, 3]]}\n",
      "\n",
      "Expected Output:\n",
      "6\n",
      "\n",
      "\n",
      "Actual Output:\n",
      "6\n",
      "\n",
      "Execution Time:\n",
      "0.005 ms\n",
      "\n",
      "Test Result:\n",
      "\u001b[92mPASSED\u001b[0m\n",
      "\n",
      "\n",
      "\u001b[1mTEST CASE #4\u001b[0m\n",
      "\n",
      "Input:\n",
      "{'grid': [[1], [4], [2]]}\n",
      "\n",
      "Expected Output:\n",
      "7\n",
      "\n",
      "\n",
      "Actual Output:\n",
      "7\n",
      "\n",
      "Execution Time:\n",
      "0.005 ms\n",
      "\n",
      "Test Result:\n",
      "\u001b[92mPASSED\u001b[0m\n",
      "\n",
      "\n",
      "\u001b[1mTEST CASE #5\u001b[0m\n",
      "\n",
      "Input:\n",
      "{'grid': [[1]]}\n",
      "\n",
      "Expected Output:\n",
      "1\n",
      "\n",
      "\n",
      "Actual Output:\n",
      "1\n",
      "\n",
      "Execution Time:\n",
      "0.003 ms\n",
      "\n",
      "Test Result:\n",
      "\u001b[92mPASSED\u001b[0m\n",
      "\n",
      "\n",
      "\u001b[1mTEST CASE #6\u001b[0m\n",
      "\n",
      "Input:\n",
      "{'grid': [[74, 100, 100, 100, 45, 100, 100, 100, 100, 100], [100, 43, 100, 4, 100, 100, 100, 100, 10...\n",
      "\n",
      "Expected Output:\n",
      "1272\n",
      "\n",
      "\n",
      "Actual Output:\n",
      "1272\n",
      "\n",
      "Execution Time:\n",
      "14.824 ms\n",
      "\n",
      "Test Result:\n",
      "\u001b[92mPASSED\u001b[0m\n",
      "\n",
      "\n",
      "\u001b[1mSUMMARY\u001b[0m\n",
      "\n",
      "TOTAL: 7, \u001b[92mPASSED\u001b[0m: 7, \u001b[91mFAILED\u001b[0m: 0\n"
     ]
    },
    {
     "data": {
      "text/plain": [
       "[(7, True, 0.018),\n",
       " (12, True, 0.008),\n",
       " (3, True, 0.015),\n",
       " (6, True, 0.005),\n",
       " (7, True, 0.005),\n",
       " (1, True, 0.003),\n",
       " (1272, True, 14.824)]"
      ]
     },
     "execution_count": 13,
     "metadata": {},
     "output_type": "execute_result"
    }
   ],
   "source": [
    "evaluate_test_cases(minPathSum, tests)"
   ]
  },
  {
   "cell_type": "markdown",
   "id": "5xWw6ujBO3hB",
   "metadata": {
    "id": "5xWw6ujBO3hB"
   },
   "source": [
    "### 5. Analyze the algorithm's complexity and identify inefficiencies, if any."
   ]
  },
  {
   "cell_type": "markdown",
   "id": "Xt-YdCY1PR87",
   "metadata": {
    "id": "Xt-YdCY1PR87"
   },
   "source": [
    "Recursive Function so exponential time complexity, since 2 recursive calls at each cell, so time complexity 2^n.\n",
    "Space complexity will be maximum depth of recursive tree which in this case will be O(m) or O(n) depending on which is larger (m or n)."
   ]
  },
  {
   "cell_type": "code",
   "execution_count": 14,
   "id": "ISovobqwPSXA",
   "metadata": {
    "id": "ISovobqwPSXA"
   },
   "outputs": [],
   "source": [
    "multiply_basic_time_complexity = '2^n'\n",
    "multiply_basic_space_complexity = 'O(n)'"
   ]
  },
  {
   "cell_type": "markdown",
   "id": "_Y1w5zYVOStV",
   "metadata": {
    "id": "_Y1w5zYVOStV"
   },
   "source": [
    "### 6. Apply the right technique to overcome the inefficiency. Repeat steps 3 to 6."
   ]
  },
  {
   "cell_type": "markdown",
   "id": "2bb1a77a",
   "metadata": {
    "id": "2bb1a77a"
   },
   "source": [
    "#### 7. Come up with a correct solution for the problem. State it in plain English.\n",
    "\n",
    "1. Dynamic Programming is a concept in computer science that involves converting a large problem into smaller and easier subproblems that can be used to solve the original problem.\n",
    "2. In this case, we can start by getting the minimum path sum for the first (top left) cell and then iterate through the whole array, computing the sum at each cell until we get to the final (bottom right) cell.\n",
    "3. Notice for a cell in the first row and first column the minimum path sum is just the sum of the first row and first column up till that point. This is due to the 'You can only move either down or right at any point in time' Condition.\n",
    "4. For the other cells, notice that the minimum path sum for a cell is just the smaller value of the minimum path sum of the cells to the left or above it plus the cells own value.\n",
    "5. We will use an array ``` table ``` to keep track of the minimum path sum at each cell.\n",
    "6. At the end of the iteration we will return the final element of ```table``` as ```ans```.\n",
    "\n",
    "\n",
    "\n"
   ]
  },
  {
   "cell_type": "markdown",
   "id": "9248b996",
   "metadata": {
    "id": "9248b996"
   },
   "source": [
    "####  8. Implement the solution and test it using example inputs. Fix bugs, if any."
   ]
  },
  {
   "cell_type": "code",
   "execution_count": 15,
   "id": "1785a811",
   "metadata": {
    "id": "1785a811"
   },
   "outputs": [],
   "source": [
    "def minPathSum(grid):\n",
    "    m = len(grid)\n",
    "    n = len(grid[0])\n",
    "    table = [[0 for _ in range(n+1)] for _ in range(m+1)]\n",
    "    for i in range(m):\n",
    "        for j in range(n):\n",
    "            if i == 0:\n",
    "              x = table[i+1][j]\n",
    "            elif j == 0:\n",
    "              x = table[i][j+1]\n",
    "            else:\n",
    "              x = min(table[i+1][j], table[i][j+1])\n",
    "            table[i+1][j+1] = x + grid[i][j]\n",
    "    return table[-1][-1]"
   ]
  },
  {
   "cell_type": "markdown",
   "id": "e4dd835a",
   "metadata": {
    "id": "e4dd835a"
   },
   "source": [
    "Evaluate your function against all the test cases together using the `evaluate_test_cases` (plural) function from `jovian`."
   ]
  },
  {
   "cell_type": "code",
   "execution_count": 16,
   "id": "c33adb65",
   "metadata": {
    "colab": {
     "base_uri": "https://localhost:8080/"
    },
    "id": "c33adb65",
    "outputId": "6710bcd6-b90b-4676-ac7c-23d3fc9e0e1e"
   },
   "outputs": [
    {
     "name": "stdout",
     "output_type": "stream",
     "text": [
      "\n",
      "\u001b[1mTEST CASE #0\u001b[0m\n",
      "\n",
      "Input:\n",
      "{'grid': [[1, 3, 1], [1, 5, 1], [4, 2, 1]]}\n",
      "\n",
      "Expected Output:\n",
      "7\n",
      "\n",
      "\n",
      "Actual Output:\n",
      "7\n",
      "\n",
      "Execution Time:\n",
      "0.017 ms\n",
      "\n",
      "Test Result:\n",
      "\u001b[92mPASSED\u001b[0m\n",
      "\n",
      "\n",
      "\u001b[1mTEST CASE #1\u001b[0m\n",
      "\n",
      "Input:\n",
      "{'grid': [[1, 2, 3], [4, 5, 6]]}\n",
      "\n",
      "Expected Output:\n",
      "12\n",
      "\n",
      "\n",
      "Actual Output:\n",
      "12\n",
      "\n",
      "Execution Time:\n",
      "0.014 ms\n",
      "\n",
      "Test Result:\n",
      "\u001b[92mPASSED\u001b[0m\n",
      "\n",
      "\n",
      "\u001b[1mTEST CASE #2\u001b[0m\n",
      "\n",
      "Input:\n",
      "{'grid': [[1, 3, 1], [1, 0, 1], [4, 2, 0], [0, 0, 0]]}\n",
      "\n",
      "Expected Output:\n",
      "3\n",
      "\n",
      "\n",
      "Actual Output:\n",
      "3\n",
      "\n",
      "Execution Time:\n",
      "0.019 ms\n",
      "\n",
      "Test Result:\n",
      "\u001b[92mPASSED\u001b[0m\n",
      "\n",
      "\n",
      "\u001b[1mTEST CASE #3\u001b[0m\n",
      "\n",
      "Input:\n",
      "{'grid': [[1, 2, 3]]}\n",
      "\n",
      "Expected Output:\n",
      "6\n",
      "\n",
      "\n",
      "Actual Output:\n",
      "6\n",
      "\n",
      "Execution Time:\n",
      "0.01 ms\n",
      "\n",
      "Test Result:\n",
      "\u001b[92mPASSED\u001b[0m\n",
      "\n",
      "\n",
      "\u001b[1mTEST CASE #4\u001b[0m\n",
      "\n",
      "Input:\n",
      "{'grid': [[1], [4], [2]]}\n",
      "\n",
      "Expected Output:\n",
      "7\n",
      "\n",
      "\n",
      "Actual Output:\n",
      "7\n",
      "\n",
      "Execution Time:\n",
      "0.012 ms\n",
      "\n",
      "Test Result:\n",
      "\u001b[92mPASSED\u001b[0m\n",
      "\n",
      "\n",
      "\u001b[1mTEST CASE #5\u001b[0m\n",
      "\n",
      "Input:\n",
      "{'grid': [[1]]}\n",
      "\n",
      "Expected Output:\n",
      "1\n",
      "\n",
      "\n",
      "Actual Output:\n",
      "1\n",
      "\n",
      "Execution Time:\n",
      "0.01 ms\n",
      "\n",
      "Test Result:\n",
      "\u001b[92mPASSED\u001b[0m\n",
      "\n",
      "\n",
      "\u001b[1mTEST CASE #6\u001b[0m\n",
      "\n",
      "Input:\n",
      "{'grid': [[74, 100, 100, 100, 45, 100, 100, 100, 100, 100], [100, 43, 100, 4, 100, 100, 100, 100, 10...\n",
      "\n",
      "Expected Output:\n",
      "1272\n",
      "\n",
      "\n",
      "Actual Output:\n",
      "1272\n",
      "\n",
      "Execution Time:\n",
      "0.053 ms\n",
      "\n",
      "Test Result:\n",
      "\u001b[92mPASSED\u001b[0m\n",
      "\n",
      "\n",
      "\u001b[1mSUMMARY\u001b[0m\n",
      "\n",
      "TOTAL: 7, \u001b[92mPASSED\u001b[0m: 7, \u001b[91mFAILED\u001b[0m: 0\n"
     ]
    },
    {
     "data": {
      "text/plain": [
       "[(7, True, 0.017),\n",
       " (12, True, 0.014),\n",
       " (3, True, 0.019),\n",
       " (6, True, 0.01),\n",
       " (7, True, 0.012),\n",
       " (1, True, 0.01),\n",
       " (1272, True, 0.053)]"
      ]
     },
     "execution_count": 16,
     "metadata": {},
     "output_type": "execute_result"
    }
   ],
   "source": [
    "evaluate_test_cases(minPathSum, tests)"
   ]
  },
  {
   "cell_type": "markdown",
   "id": "484932cf",
   "metadata": {
    "id": "484932cf"
   },
   "source": [
    "#### 9. Analyze the algorithm's complexity and identify inefficiencies, if any."
   ]
  },
  {
   "cell_type": "markdown",
   "id": "VfzVRTMyMHKH",
   "metadata": {
    "id": "VfzVRTMyMHKH"
   },
   "source": [
    "Since the array has m x n elements and the program iterates over it once, the time complexity is O(mn).\n",
    "Since the program uses an array ```table``` to store the answers to the subproblems, which is of size m+1 x n+1, the space complexity is O(mn)."
   ]
  },
  {
   "cell_type": "code",
   "execution_count": 17,
   "id": "c9f8df7f",
   "metadata": {
    "id": "c9f8df7f"
   },
   "outputs": [],
   "source": [
    "multiply_basic_time_complexity = 'O(mn)'\n",
    "multiply_basic_space_complexity = 'O(mn)'"
   ]
  }
 ],
 "metadata": {
  "colab": {
   "provenance": [],
   "toc_visible": true
  },
  "language_info": {
   "codemirror_mode": {
    "name": "ipython",
    "version": 3
   },
   "file_extension": ".py",
   "mimetype": "text/x-python",
   "name": "python",
   "nbconvert_exporter": "python",
   "pygments_lexer": "ipython3",
   "version": "3.8.6"
  }
 },
 "nbformat": 4,
 "nbformat_minor": 5
}