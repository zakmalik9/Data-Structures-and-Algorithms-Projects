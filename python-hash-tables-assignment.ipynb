{
 "cells": [
  {
   "cell_type": "markdown",
   "id": "tough-steps",
   "metadata": {
    "id": "tough-steps"
   },
   "source": [
    "# Assignment 2 - Hash Tables in Python\n",
    "\n",
    "_This assignment is a part of the course [\"Data Structures and Algorithms in Python\"](https://jovian.ai/learn/data-structures-and-algorithms-in-python)._\n",
    "\n",
    "In this assignment, you will implement Python dictionaries from scratch using hash tables.\n",
    "\n",
    "As you go through this notebook, you will find the symbol **???** in certain places. To complete this assignment, you must replace all the **???** with appropriate values, expressions or statements to ensure that the notebook runs properly end-to-end. \n",
    "\n",
    "**Guidelines**\n",
    "\n",
    "1. Make sure to run all the code cells, otherwise you may get errors like `NameError` for undefined variables.\n",
    "2. Do not change variable names, delete cells or disturb other existing code. It may cause problems during evaluation.\n",
    "3. In some cases, you may need to add some code cells or new statements before or after the line of code containing the **???**. \n",
    "4. Since you'll be using a temporary online service for code execution, save your work by running `jovian.commit` at regular intervals.\n",
    "5. Questions marked **(Optional)** will not be considered for evaluation, and can be skipped. They are for your learning.\n",
    "6. If you are stuck, you can ask for help on the [community forum](https://jovian.ai/forum/c/data-structures-and-algorithms-in-python/assignment-2/88). Post errors or ask for hints, but **please don't ask for OR share the full working answer code** on the forum.\n",
    "7. There are some tests included with this notebook to help you test your implementation. However, after submission your code will be tested with some hidden test cases. Make sure to test your code exhaustively to cover all edge cases.\n",
    "\n",
    "\n",
    "**Important Links**\n",
    "\n",
    "* Submit your work here: https://jovian.ai/learn/data-structures-and-algorithms-in-python/assignment/assignment-2-hash-table-and-python-dictionaries\n",
    "* Ask questions and get help: https://jovian.ai/forum/c/data-structures-and-algorithms-in-python/assignment-2/88\n",
    "* Lesson 2 video for review: https://jovian.ai/aakashns/python-binary-search-trees\n",
    "* Lesson 2 notebook for review: https://jovian.ai/aakashns/python-binary-search-trees\n",
    "\n",
    "\n",
    "\n"
   ]
  },
  {
   "cell_type": "markdown",
   "id": "prescription-quest",
   "metadata": {
    "id": "prescription-quest"
   },
   "source": [
    "### How to Run the Code and Save Your Work\n",
    "\n",
    "**Option 1: Running using free online resources (1-click, recommended)**: Click the **Run** button at the top of this page and select **Run on Binder**. You can also select \"Run on Colab\" or \"Run on Kaggle\", but you'll need to create an account on [Google Colab](https://colab.research.google.com) or [Kaggle](https://kaggle.com) to use these platforms.\n",
    "\n",
    "\n",
    "**Option 2: Running on your computer locally**: To run the code on your computer locally, you'll need to set up [Python](https://www.python.org) & [Conda](https://docs.conda.io/projects/conda/en/latest/user-guide/install/), download the notebook and install the required libraries. Click the **Run** button at the top of this page, select the **Run Locally** option, and follow the instructions.\n",
    "\n",
    "**Saving your work**: You can save a snapshot of the assignment to your [Jovian](https://jovian.ai) profile, so that you can access it later and continue your work. Keep saving your work by running `jovian.commit` from time to time."
   ]
  },
  {
   "cell_type": "code",
   "execution_count": null,
   "id": "hollow-power",
   "metadata": {
    "id": "hollow-power"
   },
   "outputs": [],
   "source": [
    "#project='python-hash-tables-assignment'"
   ]
  },
  {
   "cell_type": "code",
   "execution_count": 1,
   "id": "special-mauritius",
   "metadata": {
    "colab": {
     "base_uri": "https://localhost:8080/"
    },
    "executionInfo": {
     "elapsed": 11384,
     "status": "ok",
     "timestamp": 1675766073725,
     "user": {
      "displayName": "Muhammad Zakriya",
      "userId": "16658765341696558064"
     },
     "user_tz": -180
    },
    "id": "special-mauritius",
    "outputId": "26de0696-51e4-4d3b-8d24-a73b88dc5f41"
   },
   "outputs": [
    {
     "name": "stdout",
     "output_type": "stream",
     "text": [
      "\u001b[?25l     \u001b[90m━━━━━━━━━━━━━━━━━━━━━━━━━━━━━━━━━━━━━━━━\u001b[0m \u001b[32m0.0/68.6 KB\u001b[0m \u001b[31m?\u001b[0m eta \u001b[36m-:--:--\u001b[0m\r",
      "\u001b[2K     \u001b[90m━━━━━━━━━━━━━━━━━━━━━━━━━━━━━━━━━━━━━━━━\u001b[0m \u001b[32m68.6/68.6 KB\u001b[0m \u001b[31m2.3 MB/s\u001b[0m eta \u001b[36m0:00:00\u001b[0m\n",
      "\u001b[?25h  Preparing metadata (setup.py) ... \u001b[?25l\u001b[?25hdone\n",
      "  Building wheel for uuid (setup.py) ... \u001b[?25l\u001b[?25hdone\n"
     ]
    }
   ],
   "source": [
    "!pip install jovian --upgrade --quiet"
   ]
  },
  {
   "cell_type": "code",
   "execution_count": 2,
   "id": "extra-questionnaire",
   "metadata": {
    "executionInfo": {
     "elapsed": 37,
     "status": "ok",
     "timestamp": 1675766073728,
     "user": {
      "displayName": "Muhammad Zakriya",
      "userId": "16658765341696558064"
     },
     "user_tz": -180
    },
    "id": "extra-questionnaire"
   },
   "outputs": [],
   "source": [
    "import jovian\n"
   ]
  },
  {
   "cell_type": "code",
   "execution_count": null,
   "id": "IZNZkjuxcGIs",
   "metadata": {
    "id": "IZNZkjuxcGIs"
   },
   "outputs": [],
   "source": [
    "#jovian.commit(project=project, privacy='secret', environment=None)"
   ]
  },
  {
   "cell_type": "markdown",
   "id": "average-jaguar",
   "metadata": {
    "id": "average-jaguar"
   },
   "source": [
    "## Problem Statement - Python Dictionaries and Hash Tables\n",
    "\n",
    "In this assignment, you will recreate Python dictionaries from scratch using data structure called *hash table*. Dictionaries in Python are used to store key-value pairs. Keys are used to store and retrieve values. For example, here's a dictionary for storing and retrieving phone numbers using people's names. "
   ]
  },
  {
   "cell_type": "code",
   "execution_count": 3,
   "id": "concerned-array",
   "metadata": {
    "colab": {
     "base_uri": "https://localhost:8080/"
    },
    "executionInfo": {
     "elapsed": 425,
     "status": "ok",
     "timestamp": 1675766132700,
     "user": {
      "displayName": "Muhammad Zakriya",
      "userId": "16658765341696558064"
     },
     "user_tz": -180
    },
    "id": "concerned-array",
    "outputId": "f6a69eb3-d8c9-42ff-b0d2-213a9435e524"
   },
   "outputs": [
    {
     "data": {
      "text/plain": [
       "{'Aakash': '9489484949', 'Hemanth': '9595949494', 'Siddhant': '9231325312'}"
      ]
     },
     "execution_count": 3,
     "metadata": {},
     "output_type": "execute_result"
    }
   ],
   "source": [
    "phone_numbers = {\n",
    "  'Aakash' : '9489484949',\n",
    "  'Hemanth' : '9595949494',\n",
    "  'Siddhant' : '9231325312'\n",
    "}\n",
    "phone_numbers"
   ]
  },
  {
   "cell_type": "markdown",
   "id": "applicable-winter",
   "metadata": {
    "id": "applicable-winter"
   },
   "source": [
    "You can access a person's phone number using their name as follows:"
   ]
  },
  {
   "cell_type": "code",
   "execution_count": 4,
   "id": "worldwide-opposition",
   "metadata": {
    "colab": {
     "base_uri": "https://localhost:8080/",
     "height": 36
    },
    "executionInfo": {
     "elapsed": 609,
     "status": "ok",
     "timestamp": 1675766134842,
     "user": {
      "displayName": "Muhammad Zakriya",
      "userId": "16658765341696558064"
     },
     "user_tz": -180
    },
    "id": "worldwide-opposition",
    "outputId": "130569a0-f305-43f4-f073-60670bad415d"
   },
   "outputs": [
    {
     "data": {
      "application/vnd.google.colaboratory.intrinsic+json": {
       "type": "string"
      },
      "text/plain": [
       "'9489484949'"
      ]
     },
     "execution_count": 4,
     "metadata": {},
     "output_type": "execute_result"
    }
   ],
   "source": [
    "phone_numbers['Aakash']"
   ]
  },
  {
   "cell_type": "markdown",
   "id": "moral-optimum",
   "metadata": {
    "id": "moral-optimum"
   },
   "source": [
    "You can store new phone numbers, or update existing ones as follows:"
   ]
  },
  {
   "cell_type": "code",
   "execution_count": 5,
   "id": "occupied-absolute",
   "metadata": {
    "colab": {
     "base_uri": "https://localhost:8080/"
    },
    "executionInfo": {
     "elapsed": 11,
     "status": "ok",
     "timestamp": 1675766136137,
     "user": {
      "displayName": "Muhammad Zakriya",
      "userId": "16658765341696558064"
     },
     "user_tz": -180
    },
    "id": "occupied-absolute",
    "outputId": "16d35c96-8d7b-41ce-aaa4-6b745d35139c"
   },
   "outputs": [
    {
     "data": {
      "text/plain": [
       "{'Aakash': '7878787878',\n",
       " 'Hemanth': '9595949494',\n",
       " 'Siddhant': '9231325312',\n",
       " 'Vishal': '8787878787'}"
      ]
     },
     "execution_count": 5,
     "metadata": {},
     "output_type": "execute_result"
    }
   ],
   "source": [
    "# Add a new value\n",
    "phone_numbers['Vishal'] = '8787878787'\n",
    "# Update existing value\n",
    "phone_numbers['Aakash'] = '7878787878'\n",
    "# View the updated dictionary\n",
    "phone_numbers"
   ]
  },
  {
   "cell_type": "markdown",
   "id": "attached-architect",
   "metadata": {
    "id": "attached-architect"
   },
   "source": [
    "You can also view all the names and phone numbers stored in `phone_numbers` using a `for` loop."
   ]
  },
  {
   "cell_type": "code",
   "execution_count": 6,
   "id": "worst-atmosphere",
   "metadata": {
    "colab": {
     "base_uri": "https://localhost:8080/"
    },
    "executionInfo": {
     "elapsed": 409,
     "status": "ok",
     "timestamp": 1675766140770,
     "user": {
      "displayName": "Muhammad Zakriya",
      "userId": "16658765341696558064"
     },
     "user_tz": -180
    },
    "id": "worst-atmosphere",
    "outputId": "809ef696-7ad0-417f-8503-4393d5907c39"
   },
   "outputs": [
    {
     "name": "stdout",
     "output_type": "stream",
     "text": [
      "Name: Aakash , Phone Number: 7878787878\n",
      "Name: Hemanth , Phone Number: 9595949494\n",
      "Name: Siddhant , Phone Number: 9231325312\n",
      "Name: Vishal , Phone Number: 8787878787\n"
     ]
    }
   ],
   "source": [
    "for name in phone_numbers:\n",
    "    print('Name:', name, ', Phone Number:', phone_numbers[name])"
   ]
  },
  {
   "cell_type": "markdown",
   "id": "motivated-toolbox",
   "metadata": {
    "id": "motivated-toolbox"
   },
   "source": [
    "Dictionaries in Python are implemented using a data structure called **hash table**. A hash table uses a list/array to store the key-value pairs, and uses a _hashing function_ to determine the index for storing or retrieving the data associated with a given key. \n",
    "\n",
    "Here's a visual representation of a hash table ([source](https://en.wikipedia.org/wiki/Hash_table)):\n",
    "\n",
    "<img src=\"https://i.imgur.com/5dPEmuY.png\" width=\"480\">\n",
    "\n",
    "Your objective in this assignment is to implement a `HashTable` class which supports the following operations:\n",
    "\n",
    "1. **Insert**: Insert a new key-value pair\n",
    "2. **Find**: Find the value associated with a key\n",
    "3. **Update**: Update the value associated with a key\n",
    "5. **List**: List all the keys stored in the hash table\n",
    "\n",
    "The `HashTable` class will have the following structure (note the function signatures):"
   ]
  },
  {
   "cell_type": "code",
   "execution_count": 7,
   "id": "amino-princess",
   "metadata": {
    "executionInfo": {
     "elapsed": 411,
     "status": "ok",
     "timestamp": 1675766185106,
     "user": {
      "displayName": "Muhammad Zakriya",
      "userId": "16658765341696558064"
     },
     "user_tz": -180
    },
    "id": "amino-princess"
   },
   "outputs": [],
   "source": [
    "class HashTable:\n",
    "    def insert(self, key, value):\n",
    "        \"\"\"Insert a new key-value pair\"\"\"\n",
    "        pass\n",
    "    \n",
    "    def find(self, key):\n",
    "        \"\"\"Find the value associated with a key\"\"\"\n",
    "        pass\n",
    "    \n",
    "    def update(self, key, value):\n",
    "        \"\"\"Change the value associated with a key\"\"\"\n",
    "        pass\n",
    "    \n",
    "    def list_all(self):\n",
    "        \"\"\"List all the keys\"\"\"\n",
    "        pass"
   ]
  },
  {
   "cell_type": "markdown",
   "id": "biblical-contractor",
   "metadata": {
    "id": "biblical-contractor"
   },
   "source": [
    "Before we begin our implementation, let's save and commit our work."
   ]
  },
  {
   "cell_type": "code",
   "execution_count": null,
   "id": "through-volume",
   "metadata": {
    "id": "through-volume",
    "outputId": "eea6b370-4864-468a-d0ef-15319498768c"
   },
   "outputs": [
    {
     "data": {
      "application/javascript": [
       "window.require && require([\"base/js/namespace\"],function(Jupyter){Jupyter.notebook.save_checkpoint()})"
      ],
      "text/plain": [
       "<IPython.core.display.Javascript object>"
      ]
     },
     "metadata": {},
     "output_type": "display_data"
    },
    {
     "name": "stdout",
     "output_type": "stream",
     "text": [
      "[jovian] Attempting to save notebook..\u001b[0m\n",
      "[jovian] Updating notebook \"aakashns/python-hash-tables-assignment\" on https://jovian.ai/\u001b[0m\n",
      "[jovian] Uploading notebook..\u001b[0m\n",
      "[jovian] Capturing environment..\u001b[0m\n",
      "[jovian] Committed successfully! https://jovian.ai/aakashns/python-hash-tables-assignment\u001b[0m\n"
     ]
    },
    {
     "data": {
      "text/plain": [
       "'https://jovian.ai/aakashns/python-hash-tables-assignment'"
      ]
     },
     "execution_count": 9,
     "metadata": {},
     "output_type": "execute_result"
    }
   ],
   "source": [
    "#jovian.commit(project=project)"
   ]
  },
  {
   "cell_type": "markdown",
   "id": "acute-healthcare",
   "metadata": {
    "id": "acute-healthcare"
   },
   "source": [
    "### Data List\n",
    "\n",
    "We'll build the `HashTable` class step-by-step. As a first step is to create a Python list which will hold all the key-value pairs. We'll start by creating a list of a fixed size.\n",
    "\n"
   ]
  },
  {
   "cell_type": "code",
   "execution_count": 1,
   "id": "indian-potential",
   "metadata": {
    "executionInfo": {
     "elapsed": 11,
     "status": "ok",
     "timestamp": 1675767883750,
     "user": {
      "displayName": "Muhammad Zakriya",
      "userId": "16658765341696558064"
     },
     "user_tz": -180
    },
    "id": "indian-potential"
   },
   "outputs": [],
   "source": [
    "MAX_HASH_TABLE_SIZE = 4096"
   ]
  },
  {
   "cell_type": "markdown",
   "id": "upset-bullet",
   "metadata": {
    "id": "upset-bullet"
   },
   "source": [
    "**QUESTION 1: Create a Python list of size `MAX_HASH_TABLE_SIZE`, with all the values set to `None`.**\n",
    "\n",
    "_Hint_: Use the [`*` operator](https://stackoverflow.com/questions/3459098/create-list-of-single-item-repeated-n-times)."
   ]
  },
  {
   "cell_type": "code",
   "execution_count": 2,
   "id": "expected-responsibility",
   "metadata": {
    "executionInfo": {
     "elapsed": 10,
     "status": "ok",
     "timestamp": 1675767883751,
     "user": {
      "displayName": "Muhammad Zakriya",
      "userId": "16658765341696558064"
     },
     "user_tz": -180
    },
    "id": "expected-responsibility"
   },
   "outputs": [],
   "source": [
    "# List of size MAX_HASH_TABLE_SIZE with all values None\n",
    "data_list = [None] * MAX_HASH_TABLE_SIZE"
   ]
  },
  {
   "cell_type": "markdown",
   "id": "patient-complexity",
   "metadata": {
    "id": "patient-complexity"
   },
   "source": [
    "If the list was created successfully, the following cells should output `True`."
   ]
  },
  {
   "cell_type": "code",
   "execution_count": 3,
   "id": "cross-certification",
   "metadata": {
    "colab": {
     "base_uri": "https://localhost:8080/"
    },
    "executionInfo": {
     "elapsed": 4,
     "status": "ok",
     "timestamp": 1675767887973,
     "user": {
      "displayName": "Muhammad Zakriya",
      "userId": "16658765341696558064"
     },
     "user_tz": -180
    },
    "id": "cross-certification",
    "outputId": "945a4189-2d4f-4187-f0ae-041ba9f22914"
   },
   "outputs": [
    {
     "data": {
      "text/plain": [
       "True"
      ]
     },
     "execution_count": 3,
     "metadata": {},
     "output_type": "execute_result"
    }
   ],
   "source": [
    "len(data_list) == 4096"
   ]
  },
  {
   "cell_type": "code",
   "execution_count": 4,
   "id": "controlled-ideal",
   "metadata": {
    "colab": {
     "base_uri": "https://localhost:8080/"
    },
    "executionInfo": {
     "elapsed": 9,
     "status": "ok",
     "timestamp": 1675767888798,
     "user": {
      "displayName": "Muhammad Zakriya",
      "userId": "16658765341696558064"
     },
     "user_tz": -180
    },
    "id": "controlled-ideal",
    "outputId": "12e8a99b-7f34-4101-b173-bebc9718d97f"
   },
   "outputs": [
    {
     "data": {
      "text/plain": [
       "True"
      ]
     },
     "execution_count": 4,
     "metadata": {},
     "output_type": "execute_result"
    }
   ],
   "source": [
    "data_list[99] == None"
   ]
  },
  {
   "cell_type": "markdown",
   "id": "juvenile-canal",
   "metadata": {
    "id": "juvenile-canal"
   },
   "source": [
    "Let's save our work before continuing."
   ]
  },
  {
   "cell_type": "code",
   "execution_count": null,
   "id": "celtic-mistake",
   "metadata": {
    "id": "celtic-mistake",
    "outputId": "49c8fae0-aa8d-4da2-d1e9-992a9d3fcfee"
   },
   "outputs": [
    {
     "data": {
      "application/javascript": [
       "window.require && require([\"base/js/namespace\"],function(Jupyter){Jupyter.notebook.save_checkpoint()})"
      ],
      "text/plain": [
       "<IPython.core.display.Javascript object>"
      ]
     },
     "metadata": {},
     "output_type": "display_data"
    },
    {
     "name": "stdout",
     "output_type": "stream",
     "text": [
      "[jovian] Attempting to save notebook..\u001b[0m\n",
      "[jovian] Updating notebook \"aakashns/python-hash-tables-assignment\" on https://jovian.ai/\u001b[0m\n",
      "[jovian] Uploading notebook..\u001b[0m\n",
      "[jovian] Capturing environment..\u001b[0m\n",
      "[jovian] Committed successfully! https://jovian.ai/aakashns/python-hash-tables-assignment\u001b[0m\n"
     ]
    },
    {
     "data": {
      "text/plain": [
       "'https://jovian.ai/aakashns/python-hash-tables-assignment'"
      ]
     },
     "execution_count": 14,
     "metadata": {},
     "output_type": "execute_result"
    }
   ],
   "source": [
    "#jovian.commit(project=project)"
   ]
  },
  {
   "cell_type": "markdown",
   "id": "radio-wisconsin",
   "metadata": {
    "id": "radio-wisconsin"
   },
   "source": [
    "### Hashing Function\n",
    "\n",
    "A _hashing function_ is used to convert strings and other non-numeric data types into numbers, which can then be used as list indices. For instance, if a hashing function converts the string `\"Aakash\"` into the number `4`, then the key-value pair `('Aakash', '7878787878')` will be stored at the position `4` within the data list.\n",
    "\n",
    "Here's a simple algorithm for hashing, which can convert strings into numeric list indices.\n",
    "\n",
    "1. Iterate over the string, character by character\n",
    "2. Convert each character to a number using Python's built-in `ord` function.\n",
    "3. Add the numbers for each character to obtain the hash for the entire string \n",
    "4. Take the remainder of the result with the size of the data list\n",
    "\n",
    "\n",
    "**QUESTION 2: Complete the `get_index` function below which implements the hashing algorithm described above.**"
   ]
  },
  {
   "cell_type": "code",
   "execution_count": 6,
   "id": "broken-vertex",
   "metadata": {
    "executionInfo": {
     "elapsed": 310,
     "status": "ok",
     "timestamp": 1675767933026,
     "user": {
      "displayName": "Muhammad Zakriya",
      "userId": "16658765341696558064"
     },
     "user_tz": -180
    },
    "id": "broken-vertex"
   },
   "outputs": [],
   "source": [
    "def get_index(data_list, a_string):\n",
    "    # Variable to store the result (updated after each iteration)\n",
    "    result = 0\n",
    "    \n",
    "    for a_character in a_string:\n",
    "        # Convert the character to a number (using ord)\n",
    "        a_number = ord(a_character)\n",
    "        # Update result by adding the number\n",
    "        result += a_number\n",
    "    \n",
    "    # Take the remainder of the result with the size of the data list\n",
    "    list_index = result % len(data_list)\n",
    "    return list_index"
   ]
  },
  {
   "cell_type": "markdown",
   "id": "political-plain",
   "metadata": {
    "id": "political-plain"
   },
   "source": [
    "If the `get_index` function was defined correctly, the following cells should output `True`."
   ]
  },
  {
   "cell_type": "code",
   "execution_count": 7,
   "id": "hairy-margin",
   "metadata": {
    "colab": {
     "base_uri": "https://localhost:8080/"
    },
    "executionInfo": {
     "elapsed": 312,
     "status": "ok",
     "timestamp": 1675767942147,
     "user": {
      "displayName": "Muhammad Zakriya",
      "userId": "16658765341696558064"
     },
     "user_tz": -180
    },
    "id": "hairy-margin",
    "outputId": "ac9f353c-ac66-4253-dda9-768f44a88bcb"
   },
   "outputs": [
    {
     "data": {
      "text/plain": [
       "True"
      ]
     },
     "execution_count": 7,
     "metadata": {},
     "output_type": "execute_result"
    }
   ],
   "source": [
    "get_index(data_list, '') == 0"
   ]
  },
  {
   "cell_type": "code",
   "execution_count": 8,
   "id": "split-league",
   "metadata": {
    "colab": {
     "base_uri": "https://localhost:8080/"
    },
    "executionInfo": {
     "elapsed": 305,
     "status": "ok",
     "timestamp": 1675767943878,
     "user": {
      "displayName": "Muhammad Zakriya",
      "userId": "16658765341696558064"
     },
     "user_tz": -180
    },
    "id": "split-league",
    "outputId": "cc85b139-1b3a-44fd-fa23-e69b7fc14d1c"
   },
   "outputs": [
    {
     "data": {
      "text/plain": [
       "True"
      ]
     },
     "execution_count": 8,
     "metadata": {},
     "output_type": "execute_result"
    }
   ],
   "source": [
    "get_index(data_list, 'Aakash') == 585"
   ]
  },
  {
   "cell_type": "code",
   "execution_count": 9,
   "id": "insured-romania",
   "metadata": {
    "colab": {
     "base_uri": "https://localhost:8080/"
    },
    "executionInfo": {
     "elapsed": 10,
     "status": "ok",
     "timestamp": 1675767945806,
     "user": {
      "displayName": "Muhammad Zakriya",
      "userId": "16658765341696558064"
     },
     "user_tz": -180
    },
    "id": "insured-romania",
    "outputId": "6359c0c8-b637-431f-febe-ea8460394910"
   },
   "outputs": [
    {
     "data": {
      "text/plain": [
       "True"
      ]
     },
     "execution_count": 9,
     "metadata": {},
     "output_type": "execute_result"
    }
   ],
   "source": [
    "get_index(data_list, 'Don O Leary') == 941"
   ]
  },
  {
   "cell_type": "markdown",
   "id": "secret-casting",
   "metadata": {
    "id": "secret-casting"
   },
   "source": [
    "(Optional) Test the `get_index` function using the empty cells below."
   ]
  },
  {
   "cell_type": "code",
   "execution_count": 10,
   "id": "close-speaker",
   "metadata": {
    "colab": {
     "base_uri": "https://localhost:8080/"
    },
    "executionInfo": {
     "elapsed": 272,
     "status": "ok",
     "timestamp": 1675767973377,
     "user": {
      "displayName": "Muhammad Zakriya",
      "userId": "16658765341696558064"
     },
     "user_tz": -180
    },
    "id": "close-speaker",
    "outputId": "dc371349-0341-48ab-b919-339fab49685a"
   },
   "outputs": [
    {
     "data": {
      "text/plain": [
       "195"
      ]
     },
     "execution_count": 10,
     "metadata": {},
     "output_type": "execute_result"
    }
   ],
   "source": [
    "get_index(data_list, 'ab')"
   ]
  },
  {
   "cell_type": "code",
   "execution_count": 11,
   "id": "pleased-metadata",
   "metadata": {
    "colab": {
     "base_uri": "https://localhost:8080/"
    },
    "executionInfo": {
     "elapsed": 468,
     "status": "ok",
     "timestamp": 1675767983302,
     "user": {
      "displayName": "Muhammad Zakriya",
      "userId": "16658765341696558064"
     },
     "user_tz": -180
    },
    "id": "pleased-metadata",
    "outputId": "8d2140ec-3281-4264-969b-b41114194192"
   },
   "outputs": [
    {
     "data": {
      "text/plain": [
       "195"
      ]
     },
     "execution_count": 11,
     "metadata": {},
     "output_type": "execute_result"
    }
   ],
   "source": [
    "get_index(data_list, 'ba')"
   ]
  },
  {
   "cell_type": "code",
   "execution_count": 12,
   "id": "RrvN0rJyjnFr",
   "metadata": {
    "colab": {
     "base_uri": "https://localhost:8080/"
    },
    "executionInfo": {
     "elapsed": 354,
     "status": "ok",
     "timestamp": 1675768008296,
     "user": {
      "displayName": "Muhammad Zakriya",
      "userId": "16658765341696558064"
     },
     "user_tz": -180
    },
    "id": "RrvN0rJyjnFr",
    "outputId": "a6fe7737-41d9-4c35-8966-1091448ea2a5"
   },
   "outputs": [
    {
     "data": {
      "text/plain": [
       "32"
      ]
     },
     "execution_count": 12,
     "metadata": {},
     "output_type": "execute_result"
    }
   ],
   "source": [
    "get_index(data_list, ' ')"
   ]
  },
  {
   "cell_type": "markdown",
   "id": "conventional-champion",
   "metadata": {
    "id": "conventional-champion"
   },
   "source": [
    "#### Insert\n",
    "\n",
    "To insert a key-value pair into a hash table, we can simply get the hash of the key, and store the pair at that index in the data list."
   ]
  },
  {
   "cell_type": "code",
   "execution_count": 13,
   "id": "applied-receipt",
   "metadata": {
    "executionInfo": {
     "elapsed": 255,
     "status": "ok",
     "timestamp": 1675768039421,
     "user": {
      "displayName": "Muhammad Zakriya",
      "userId": "16658765341696558064"
     },
     "user_tz": -180
    },
    "id": "applied-receipt"
   },
   "outputs": [],
   "source": [
    "key, value = 'Aakash', '7878787878'"
   ]
  },
  {
   "cell_type": "code",
   "execution_count": 14,
   "id": "theoretical-november",
   "metadata": {
    "colab": {
     "base_uri": "https://localhost:8080/"
    },
    "executionInfo": {
     "elapsed": 10,
     "status": "ok",
     "timestamp": 1675768041266,
     "user": {
      "displayName": "Muhammad Zakriya",
      "userId": "16658765341696558064"
     },
     "user_tz": -180
    },
    "id": "theoretical-november",
    "outputId": "46345d30-811f-4b40-c968-ffae692d17aa"
   },
   "outputs": [
    {
     "data": {
      "text/plain": [
       "585"
      ]
     },
     "execution_count": 14,
     "metadata": {},
     "output_type": "execute_result"
    }
   ],
   "source": [
    "idx = get_index(data_list, key)\n",
    "idx"
   ]
  },
  {
   "cell_type": "code",
   "execution_count": 15,
   "id": "animated-mason",
   "metadata": {
    "executionInfo": {
     "elapsed": 344,
     "status": "ok",
     "timestamp": 1675768047400,
     "user": {
      "displayName": "Muhammad Zakriya",
      "userId": "16658765341696558064"
     },
     "user_tz": -180
    },
    "id": "animated-mason"
   },
   "outputs": [],
   "source": [
    "data_list[idx] = (key, value)"
   ]
  },
  {
   "cell_type": "markdown",
   "id": "attended-blend",
   "metadata": {
    "id": "attended-blend"
   },
   "source": [
    "Here's the same operation expressed in a single line of code."
   ]
  },
  {
   "cell_type": "code",
   "execution_count": 16,
   "id": "atlantic-marriage",
   "metadata": {
    "executionInfo": {
     "elapsed": 248,
     "status": "ok",
     "timestamp": 1675768092297,
     "user": {
      "displayName": "Muhammad Zakriya",
      "userId": "16658765341696558064"
     },
     "user_tz": -180
    },
    "id": "atlantic-marriage"
   },
   "outputs": [],
   "source": [
    "data_list[get_index(data_list, 'Hemanth')] = ('Hemanth', '9595949494')"
   ]
  },
  {
   "cell_type": "markdown",
   "id": "grateful-lyric",
   "metadata": {
    "id": "grateful-lyric"
   },
   "source": [
    "#### Find\n",
    "\n",
    "The retrieve the value associated with a pair, we can get the hash of the key and look up that index in the data list."
   ]
  },
  {
   "cell_type": "code",
   "execution_count": 17,
   "id": "banner-austria",
   "metadata": {
    "colab": {
     "base_uri": "https://localhost:8080/"
    },
    "executionInfo": {
     "elapsed": 257,
     "status": "ok",
     "timestamp": 1675768099937,
     "user": {
      "displayName": "Muhammad Zakriya",
      "userId": "16658765341696558064"
     },
     "user_tz": -180
    },
    "id": "banner-austria",
    "outputId": "553cba1c-a7b7-4301-a238-6a2696ed20b2"
   },
   "outputs": [
    {
     "data": {
      "text/plain": [
       "585"
      ]
     },
     "execution_count": 17,
     "metadata": {},
     "output_type": "execute_result"
    }
   ],
   "source": [
    "idx = get_index(data_list, 'Aakash')\n",
    "idx"
   ]
  },
  {
   "cell_type": "code",
   "execution_count": 18,
   "id": "conceptual-ensemble",
   "metadata": {
    "colab": {
     "base_uri": "https://localhost:8080/",
     "height": 36
    },
    "executionInfo": {
     "elapsed": 295,
     "status": "ok",
     "timestamp": 1675768103221,
     "user": {
      "displayName": "Muhammad Zakriya",
      "userId": "16658765341696558064"
     },
     "user_tz": -180
    },
    "id": "conceptual-ensemble",
    "outputId": "554e99bb-f699-4959-c3d5-d9ae600ee48d"
   },
   "outputs": [
    {
     "data": {
      "application/vnd.google.colaboratory.intrinsic+json": {
       "type": "string"
      },
      "text/plain": [
       "'7878787878'"
      ]
     },
     "execution_count": 18,
     "metadata": {},
     "output_type": "execute_result"
    }
   ],
   "source": [
    "key, value = data_list[idx]\n",
    "value"
   ]
  },
  {
   "cell_type": "markdown",
   "id": "aggregate-memorial",
   "metadata": {
    "id": "aggregate-memorial"
   },
   "source": [
    "#### List\n",
    "\n",
    "To get the list of keys, we can use a simple [list comprehension](https://www.w3schools.com/python/python_lists_comprehension.asp)."
   ]
  },
  {
   "cell_type": "code",
   "execution_count": 19,
   "id": "electric-democracy",
   "metadata": {
    "executionInfo": {
     "elapsed": 283,
     "status": "ok",
     "timestamp": 1675768176529,
     "user": {
      "displayName": "Muhammad Zakriya",
      "userId": "16658765341696558064"
     },
     "user_tz": -180
    },
    "id": "electric-democracy"
   },
   "outputs": [],
   "source": [
    "pairs = [kv[0] for kv in data_list if kv is not None]"
   ]
  },
  {
   "cell_type": "code",
   "execution_count": 20,
   "id": "flying-composer",
   "metadata": {
    "colab": {
     "base_uri": "https://localhost:8080/"
    },
    "executionInfo": {
     "elapsed": 525,
     "status": "ok",
     "timestamp": 1675768178382,
     "user": {
      "displayName": "Muhammad Zakriya",
      "userId": "16658765341696558064"
     },
     "user_tz": -180
    },
    "id": "flying-composer",
    "outputId": "35150300-de83-4106-a91f-43e68438c022"
   },
   "outputs": [
    {
     "data": {
      "text/plain": [
       "['Aakash', 'Hemanth']"
      ]
     },
     "execution_count": 20,
     "metadata": {},
     "output_type": "execute_result"
    }
   ],
   "source": [
    "pairs"
   ]
  },
  {
   "cell_type": "markdown",
   "id": "speaking-aerospace",
   "metadata": {
    "id": "speaking-aerospace"
   },
   "source": [
    "Let's save our work before continuing."
   ]
  },
  {
   "cell_type": "code",
   "execution_count": null,
   "id": "wound-medicare",
   "metadata": {
    "id": "wound-medicare",
    "outputId": "80a73148-6ef1-40ed-a7dd-8c045309d421"
   },
   "outputs": [
    {
     "data": {
      "application/javascript": [
       "window.require && require([\"base/js/namespace\"],function(Jupyter){Jupyter.notebook.save_checkpoint()})"
      ],
      "text/plain": [
       "<IPython.core.display.Javascript object>"
      ]
     },
     "metadata": {},
     "output_type": "display_data"
    },
    {
     "name": "stdout",
     "output_type": "stream",
     "text": [
      "[jovian] Attempting to save notebook..\u001b[0m\n",
      "[jovian] Updating notebook \"aakashns/python-hash-tables-assignment\" on https://jovian.ai/\u001b[0m\n",
      "[jovian] Uploading notebook..\u001b[0m\n",
      "[jovian] Capturing environment..\u001b[0m\n",
      "[jovian] Committed successfully! https://jovian.ai/aakashns/python-hash-tables-assignment\u001b[0m\n"
     ]
    },
    {
     "data": {
      "text/plain": [
       "'https://jovian.ai/aakashns/python-hash-tables-assignment'"
      ]
     },
     "execution_count": 28,
     "metadata": {},
     "output_type": "execute_result"
    }
   ],
   "source": [
    "#jovian.commit(project=project)"
   ]
  },
  {
   "cell_type": "markdown",
   "id": "geological-medication",
   "metadata": {
    "id": "geological-medication"
   },
   "source": [
    "### Basic Hash Table Implementation\n",
    "\n",
    "We can now use the hashing function defined above to implement a basic hash table in Python.\n",
    "\n",
    "\n",
    "**QUESTION 3: Complete the hash table implementation below by following the instructions in the comments.**\n",
    "\n",
    "_Hint_: Insert and update can have identical implementations.\n"
   ]
  },
  {
   "cell_type": "code",
   "execution_count": 21,
   "id": "hydraulic-moses",
   "metadata": {
    "executionInfo": {
     "elapsed": 250,
     "status": "ok",
     "timestamp": 1675768380405,
     "user": {
      "displayName": "Muhammad Zakriya",
      "userId": "16658765341696558064"
     },
     "user_tz": -180
    },
    "id": "hydraulic-moses"
   },
   "outputs": [],
   "source": [
    "class BasicHashTable:\n",
    "    def __init__(self, max_size=MAX_HASH_TABLE_SIZE):\n",
    "        # 1. Create a list of size `max_size` with all values None\n",
    "        self.data_list = [None] * max_size\n",
    "     \n",
    "    \n",
    "    def insert(self, key, value):\n",
    "        # 1. Find the index for the key using get_index\n",
    "        idx = get_index(self.data_list, key)\n",
    "        \n",
    "        # 2. Store the key-value pair at the right index\n",
    "        self.data_list[idx] = (key, value)\n",
    "    \n",
    "    \n",
    "    def find(self, key):\n",
    "        # 1. Find the index for the key using get_index\n",
    "        idx = get_index(self.data_list, key)\n",
    "        \n",
    "        # 2. Retrieve the data stored at the index\n",
    "        kv = self.data_list[idx]\n",
    "        \n",
    "        # 3. Return the value if found, else return None\n",
    "        if kv is None:\n",
    "            return None\n",
    "        else:\n",
    "            key, value = kv\n",
    "            return value\n",
    "    \n",
    "    \n",
    "    def update(self, key, value):\n",
    "        # 1. Find the index for the key using get_index\n",
    "        idx = get_index(self.data_list, key)\n",
    "        \n",
    "        # 2. Store the new key-value pair at the right index\n",
    "        self.data_list[idx] = (key, value)\n",
    "\n",
    "    \n",
    "    def list_all(self):\n",
    "        # 1. Extract the key from each key-value pair \n",
    "        return [kv[0] for kv in self.data_list if kv is not None]"
   ]
  },
  {
   "cell_type": "markdown",
   "id": "green-health",
   "metadata": {
    "id": "green-health"
   },
   "source": [
    "If the `BasicHashTable` class was defined correctly, the following cells should output `True`."
   ]
  },
  {
   "cell_type": "code",
   "execution_count": 22,
   "id": "automotive-aerospace",
   "metadata": {
    "colab": {
     "base_uri": "https://localhost:8080/"
    },
    "executionInfo": {
     "elapsed": 289,
     "status": "ok",
     "timestamp": 1675768390846,
     "user": {
      "displayName": "Muhammad Zakriya",
      "userId": "16658765341696558064"
     },
     "user_tz": -180
    },
    "id": "automotive-aerospace",
    "outputId": "687ea09e-3ea4-4bf0-d0a4-c06d5598366e"
   },
   "outputs": [
    {
     "data": {
      "text/plain": [
       "True"
      ]
     },
     "execution_count": 22,
     "metadata": {},
     "output_type": "execute_result"
    }
   ],
   "source": [
    "basic_table = BasicHashTable(max_size=1024)\n",
    "len(basic_table.data_list) == 1024"
   ]
  },
  {
   "cell_type": "code",
   "execution_count": 23,
   "id": "awful-contemporary",
   "metadata": {
    "colab": {
     "base_uri": "https://localhost:8080/"
    },
    "executionInfo": {
     "elapsed": 344,
     "status": "ok",
     "timestamp": 1675768397714,
     "user": {
      "displayName": "Muhammad Zakriya",
      "userId": "16658765341696558064"
     },
     "user_tz": -180
    },
    "id": "awful-contemporary",
    "outputId": "b6c3d633-bc70-4293-87ac-648845da9a3b"
   },
   "outputs": [
    {
     "data": {
      "text/plain": [
       "True"
      ]
     },
     "execution_count": 23,
     "metadata": {},
     "output_type": "execute_result"
    }
   ],
   "source": [
    "# Insert some values\n",
    "basic_table.insert('Aakash', '9999999999')\n",
    "basic_table.insert('Hemanth', '8888888888')\n",
    "\n",
    "# Find a value\n",
    "basic_table.find('Hemanth') == '8888888888'"
   ]
  },
  {
   "cell_type": "code",
   "execution_count": 24,
   "id": "sustainable-latter",
   "metadata": {
    "colab": {
     "base_uri": "https://localhost:8080/"
    },
    "executionInfo": {
     "elapsed": 234,
     "status": "ok",
     "timestamp": 1675768411263,
     "user": {
      "displayName": "Muhammad Zakriya",
      "userId": "16658765341696558064"
     },
     "user_tz": -180
    },
    "id": "sustainable-latter",
    "outputId": "d9dbcf82-9234-4e87-ccca-079382362516"
   },
   "outputs": [
    {
     "data": {
      "text/plain": [
       "True"
      ]
     },
     "execution_count": 24,
     "metadata": {},
     "output_type": "execute_result"
    }
   ],
   "source": [
    "# Update a value\n",
    "basic_table.update('Aakash', '7777777777')\n",
    "\n",
    "# Check the updated value\n",
    "basic_table.find('Aakash') == '7777777777'"
   ]
  },
  {
   "cell_type": "code",
   "execution_count": 25,
   "id": "accredited-fruit",
   "metadata": {
    "colab": {
     "base_uri": "https://localhost:8080/"
    },
    "executionInfo": {
     "elapsed": 336,
     "status": "ok",
     "timestamp": 1675768424227,
     "user": {
      "displayName": "Muhammad Zakriya",
      "userId": "16658765341696558064"
     },
     "user_tz": -180
    },
    "id": "accredited-fruit",
    "outputId": "a145a938-8e3d-42b3-e02e-b7ef29f838b8"
   },
   "outputs": [
    {
     "data": {
      "text/plain": [
       "True"
      ]
     },
     "execution_count": 25,
     "metadata": {},
     "output_type": "execute_result"
    }
   ],
   "source": [
    "# Get the list of keys\n",
    "basic_table.list_all() == ['Aakash', 'Hemanth']"
   ]
  },
  {
   "cell_type": "markdown",
   "id": "blank-thesaurus",
   "metadata": {
    "id": "blank-thesaurus"
   },
   "source": [
    "(Optional) Test your implementation of `BasicHashTable` with some more examples below."
   ]
  },
  {
   "cell_type": "code",
   "execution_count": 28,
   "id": "antique-reverse",
   "metadata": {
    "colab": {
     "base_uri": "https://localhost:8080/"
    },
    "executionInfo": {
     "elapsed": 339,
     "status": "ok",
     "timestamp": 1675768861592,
     "user": {
      "displayName": "Muhammad Zakriya",
      "userId": "16658765341696558064"
     },
     "user_tz": -180
    },
    "id": "antique-reverse",
    "outputId": "fdae9916-ffde-4a75-f213-67e1c75c1023"
   },
   "outputs": [
    {
     "data": {
      "text/plain": [
       "['xor', 'and']"
      ]
     },
     "execution_count": 28,
     "metadata": {},
     "output_type": "execute_result"
    }
   ],
   "source": [
    "bht = BasicHashTable(4)\n",
    "bht.insert('and', 1)\n",
    "bht.insert('or', 2)\n",
    "bht.insert('not', 3)\n",
    "bht.insert('xor', 4)\n",
    "bht.list_all()"
   ]
  },
  {
   "cell_type": "code",
   "execution_count": 29,
   "id": "sustained-surgery",
   "metadata": {
    "colab": {
     "base_uri": "https://localhost:8080/"
    },
    "executionInfo": {
     "elapsed": 324,
     "status": "ok",
     "timestamp": 1675768878582,
     "user": {
      "displayName": "Muhammad Zakriya",
      "userId": "16658765341696558064"
     },
     "user_tz": -180
    },
    "id": "sustained-surgery",
    "outputId": "2fd54b3d-492f-4490-89f6-5fcb75fd8e6e"
   },
   "outputs": [
    {
     "data": {
      "text/plain": [
       "['xor', 'and', 'not']"
      ]
     },
     "execution_count": 29,
     "metadata": {},
     "output_type": "execute_result"
    }
   ],
   "source": [
    "bht = BasicHashTable(20)\n",
    "bht.insert('and', 1)\n",
    "bht.insert('or', 2)\n",
    "bht.insert('not', 3)\n",
    "bht.insert('xor', 4)\n",
    "bht.list_all()"
   ]
  },
  {
   "cell_type": "code",
   "execution_count": 30,
   "id": "cutting-confirmation",
   "metadata": {
    "colab": {
     "base_uri": "https://localhost:8080/"
    },
    "executionInfo": {
     "elapsed": 275,
     "status": "ok",
     "timestamp": 1675768893635,
     "user": {
      "displayName": "Muhammad Zakriya",
      "userId": "16658765341696558064"
     },
     "user_tz": -180
    },
    "id": "cutting-confirmation",
    "outputId": "7f466f2a-8d20-4af2-ddf9-b20a3c9272c9"
   },
   "outputs": [
    {
     "data": {
      "text/plain": [
       "['and', 'or', 'not', 'xor']"
      ]
     },
     "execution_count": 30,
     "metadata": {},
     "output_type": "execute_result"
    }
   ],
   "source": [
    "bht = BasicHashTable(50)\n",
    "bht.insert('and', 1)\n",
    "bht.insert('or', 2)\n",
    "bht.insert('not', 3)\n",
    "bht.insert('xor', 4)\n",
    "bht.list_all()"
   ]
  },
  {
   "cell_type": "markdown",
   "id": "identified-gather",
   "metadata": {
    "id": "identified-gather"
   },
   "source": [
    "Let's save our work before continuing."
   ]
  },
  {
   "cell_type": "code",
   "execution_count": null,
   "id": "supreme-clearance",
   "metadata": {
    "id": "supreme-clearance",
    "outputId": "3d83c91d-365f-491f-f3f3-f974fc80ff1b"
   },
   "outputs": [
    {
     "data": {
      "application/javascript": [
       "window.require && require([\"base/js/namespace\"],function(Jupyter){Jupyter.notebook.save_checkpoint()})"
      ],
      "text/plain": [
       "<IPython.core.display.Javascript object>"
      ]
     },
     "metadata": {},
     "output_type": "display_data"
    },
    {
     "name": "stdout",
     "output_type": "stream",
     "text": [
      "[jovian] Attempting to save notebook..\u001b[0m\n",
      "[jovian] Updating notebook \"aakashns/python-hash-tables-assignment\" on https://jovian.ai/\u001b[0m\n",
      "[jovian] Uploading notebook..\u001b[0m\n",
      "[jovian] Capturing environment..\u001b[0m\n",
      "[jovian] Committed successfully! https://jovian.ai/aakashns/python-hash-tables-assignment\u001b[0m\n"
     ]
    },
    {
     "data": {
      "text/plain": [
       "'https://jovian.ai/aakashns/python-hash-tables-assignment'"
      ]
     },
     "execution_count": 43,
     "metadata": {},
     "output_type": "execute_result"
    }
   ],
   "source": [
    "#jovian.commit(project=project)"
   ]
  },
  {
   "cell_type": "markdown",
   "id": "local-fairy",
   "metadata": {
    "id": "local-fairy"
   },
   "source": [
    "### Handling Collisions with Linear Probing\n",
    "\n",
    "As you might have wondered, multiple keys can have the same hash. For instance, the keys `\"listen\"` and `\"silent\"` have the same hash. This is referred to as _collision_. Data stored against one key may override the data stored against another, if they have the same hash.\n"
   ]
  },
  {
   "cell_type": "code",
   "execution_count": 31,
   "id": "designed-bridal",
   "metadata": {
    "executionInfo": {
     "elapsed": 334,
     "status": "ok",
     "timestamp": 1675768943022,
     "user": {
      "displayName": "Muhammad Zakriya",
      "userId": "16658765341696558064"
     },
     "user_tz": -180
    },
    "id": "designed-bridal"
   },
   "outputs": [],
   "source": [
    "basic_table.insert('listen', 99)"
   ]
  },
  {
   "cell_type": "code",
   "execution_count": 32,
   "id": "removed-coating",
   "metadata": {
    "executionInfo": {
     "elapsed": 265,
     "status": "ok",
     "timestamp": 1675768945866,
     "user": {
      "displayName": "Muhammad Zakriya",
      "userId": "16658765341696558064"
     },
     "user_tz": -180
    },
    "id": "removed-coating"
   },
   "outputs": [],
   "source": [
    "basic_table.insert('silent', 200)"
   ]
  },
  {
   "cell_type": "code",
   "execution_count": 33,
   "id": "danish-documentation",
   "metadata": {
    "colab": {
     "base_uri": "https://localhost:8080/"
    },
    "executionInfo": {
     "elapsed": 316,
     "status": "ok",
     "timestamp": 1675768949139,
     "user": {
      "displayName": "Muhammad Zakriya",
      "userId": "16658765341696558064"
     },
     "user_tz": -180
    },
    "id": "danish-documentation",
    "outputId": "e5747758-ab90-4cff-e6bf-997f8b89ad4a"
   },
   "outputs": [
    {
     "data": {
      "text/plain": [
       "200"
      ]
     },
     "execution_count": 33,
     "metadata": {},
     "output_type": "execute_result"
    }
   ],
   "source": [
    "basic_table.find('listen')"
   ]
  },
  {
   "cell_type": "markdown",
   "id": "focal-intent",
   "metadata": {
    "id": "focal-intent"
   },
   "source": [
    "As you can see above, the value for the key `listen` was overwritten by the value for the key `silent`. Our hash table implementation is incomplete because it does not handle collisions correctly.\n",
    "\n",
    "To handle collisions we'll use a technique called linear probing. Here's how it works: \n",
    "\n",
    "1. While inserting a new key-value pair if the target index for a key is occupied by another key, then we try the next index, followed by the next and so on till we the closest empty location.\n",
    "\n",
    "2. While finding a key-value pair, we apply the same strategy, but instead of searching for an empty location, we look for a location which contains a key-value pair with the matching key.\n",
    "\n",
    "2. While updating a key-value pair, we apply the same strategy, but instead of searching for an empty location, we look for a location which contains a key-value pair with the matching key, and update its value.\n",
    "\n",
    "\n",
    "We'll define a function called `get_valid_index`, which starts searching the data list from the index determined by the hashing function `get_index` and returns the first index which is either empty or contains a key-value pair matching the given key.\n",
    "\n",
    "**QUESTION 4: Complete the function `get_valid_index` below by following the instructions in the comments.**"
   ]
  },
  {
   "cell_type": "code",
   "execution_count": 34,
   "id": "speaking-reform",
   "metadata": {
    "executionInfo": {
     "elapsed": 274,
     "status": "ok",
     "timestamp": 1675769150657,
     "user": {
      "displayName": "Muhammad Zakriya",
      "userId": "16658765341696558064"
     },
     "user_tz": -180
    },
    "id": "speaking-reform"
   },
   "outputs": [],
   "source": [
    "def get_valid_index(data_list, key):\n",
    "    # Start with the index returned by get_index\n",
    "    idx = get_index(data_list, key)\n",
    "    \n",
    "    while True:\n",
    "        # Get the key-value pair stored at idx\n",
    "        kv = data_list[idx]\n",
    "        \n",
    "        # If it is None, return the index\n",
    "        if kv is None:\n",
    "            return idx\n",
    "        \n",
    "        # If the stored key matches the given key, return the index\n",
    "        k, v = kv\n",
    "        if k == key:\n",
    "            return idx\n",
    "        \n",
    "        # Move to the next index\n",
    "        idx += 1\n",
    "        \n",
    "        # Go back to the start if you have reached the end of the array\n",
    "        if idx == len(data_list):\n",
    "            idx = 0"
   ]
  },
  {
   "cell_type": "markdown",
   "id": "addressed-announcement",
   "metadata": {
    "id": "addressed-announcement"
   },
   "source": [
    "If `get_valid_index` was defined correctly, the following cells should output `True`."
   ]
  },
  {
   "cell_type": "code",
   "execution_count": 35,
   "id": "shared-breathing",
   "metadata": {
    "colab": {
     "base_uri": "https://localhost:8080/"
    },
    "executionInfo": {
     "elapsed": 313,
     "status": "ok",
     "timestamp": 1675769171342,
     "user": {
      "displayName": "Muhammad Zakriya",
      "userId": "16658765341696558064"
     },
     "user_tz": -180
    },
    "id": "shared-breathing",
    "outputId": "5a9c1ce2-0138-488f-8c24-1a5ca8537b2c"
   },
   "outputs": [
    {
     "data": {
      "text/plain": [
       "True"
      ]
     },
     "execution_count": 35,
     "metadata": {},
     "output_type": "execute_result"
    }
   ],
   "source": [
    "# Create an empty hash table\n",
    "data_list2 = [None] * MAX_HASH_TABLE_SIZE\n",
    "\n",
    "# New key 'listen' should return expected index\n",
    "get_valid_index(data_list2, 'listen') == 655"
   ]
  },
  {
   "cell_type": "code",
   "execution_count": 36,
   "id": "sophisticated-enterprise",
   "metadata": {
    "colab": {
     "base_uri": "https://localhost:8080/"
    },
    "executionInfo": {
     "elapsed": 272,
     "status": "ok",
     "timestamp": 1675769178820,
     "user": {
      "displayName": "Muhammad Zakriya",
      "userId": "16658765341696558064"
     },
     "user_tz": -180
    },
    "id": "sophisticated-enterprise",
    "outputId": "cf8bd5c5-2df0-4738-e13b-3a4aba9b037c"
   },
   "outputs": [
    {
     "data": {
      "text/plain": [
       "True"
      ]
     },
     "execution_count": 36,
     "metadata": {},
     "output_type": "execute_result"
    }
   ],
   "source": [
    "# Insert a key-value pair for the key 'listen'\n",
    "data_list2[get_index(data_list2, 'listen')] = ('listen', 99)\n",
    "\n",
    "# Colliding key 'silent' should return next index\n",
    "get_valid_index(data_list2, 'silent') == 656"
   ]
  },
  {
   "cell_type": "markdown",
   "id": "scenic-drink",
   "metadata": {
    "id": "scenic-drink"
   },
   "source": [
    "(Optional) Test your implementation of `get_valid_index` on some more examples using the empty cells below."
   ]
  },
  {
   "cell_type": "code",
   "execution_count": 39,
   "id": "parallel-birmingham",
   "metadata": {
    "colab": {
     "base_uri": "https://localhost:8080/"
    },
    "executionInfo": {
     "elapsed": 340,
     "status": "ok",
     "timestamp": 1675769308476,
     "user": {
      "displayName": "Muhammad Zakriya",
      "userId": "16658765341696558064"
     },
     "user_tz": -180
    },
    "id": "parallel-birmingham",
    "outputId": "a4a0b74e-7ace-4b81-da15-05de8be73dd9"
   },
   "outputs": [
    {
     "data": {
      "text/plain": [
       "294"
      ]
     },
     "execution_count": 39,
     "metadata": {},
     "output_type": "execute_result"
    }
   ],
   "source": [
    "get_valid_index(data_list2, 'abc')"
   ]
  },
  {
   "cell_type": "code",
   "execution_count": 40,
   "id": "BSc8dZBFogUM",
   "metadata": {
    "executionInfo": {
     "elapsed": 264,
     "status": "ok",
     "timestamp": 1675769312361,
     "user": {
      "displayName": "Muhammad Zakriya",
      "userId": "16658765341696558064"
     },
     "user_tz": -180
    },
    "id": "BSc8dZBFogUM"
   },
   "outputs": [],
   "source": [
    "data_list2[get_index(data_list2, 'abc')] = ('abc', 1)"
   ]
  },
  {
   "cell_type": "code",
   "execution_count": 41,
   "id": "fewer-stylus",
   "metadata": {
    "colab": {
     "base_uri": "https://localhost:8080/"
    },
    "executionInfo": {
     "elapsed": 297,
     "status": "ok",
     "timestamp": 1675769315623,
     "user": {
      "displayName": "Muhammad Zakriya",
      "userId": "16658765341696558064"
     },
     "user_tz": -180
    },
    "id": "fewer-stylus",
    "outputId": "230fe6ba-a089-49cc-a028-46c194c3b205"
   },
   "outputs": [
    {
     "data": {
      "text/plain": [
       "295"
      ]
     },
     "execution_count": 41,
     "metadata": {},
     "output_type": "execute_result"
    }
   ],
   "source": [
    "get_valid_index(data_list2, 'cba')"
   ]
  },
  {
   "cell_type": "markdown",
   "id": "lasting-grocery",
   "metadata": {
    "id": "lasting-grocery"
   },
   "source": [
    "Let's save our work before continuing."
   ]
  },
  {
   "cell_type": "code",
   "execution_count": null,
   "id": "pleased-blocking",
   "metadata": {
    "id": "pleased-blocking",
    "outputId": "822db885-a629-4d29-b8f6-e95a65d5e703"
   },
   "outputs": [
    {
     "data": {
      "application/javascript": [
       "window.require && require([\"base/js/namespace\"],function(Jupyter){Jupyter.notebook.save_checkpoint()})"
      ],
      "text/plain": [
       "<IPython.core.display.Javascript object>"
      ]
     },
     "metadata": {},
     "output_type": "display_data"
    },
    {
     "name": "stdout",
     "output_type": "stream",
     "text": [
      "[jovian] Attempting to save notebook..\u001b[0m\n",
      "[jovian] Updating notebook \"aakashns/python-hash-tables-assignment\" on https://jovian.ai/\u001b[0m\n",
      "[jovian] Uploading notebook..\u001b[0m\n",
      "[jovian] Capturing environment..\u001b[0m\n",
      "[jovian] Committed successfully! https://jovian.ai/aakashns/python-hash-tables-assignment\u001b[0m\n"
     ]
    },
    {
     "data": {
      "text/plain": [
       "'https://jovian.ai/aakashns/python-hash-tables-assignment'"
      ]
     },
     "execution_count": 50,
     "metadata": {},
     "output_type": "execute_result"
    }
   ],
   "source": [
    "#jovian.commit(project=project)"
   ]
  },
  {
   "cell_type": "markdown",
   "id": "polish-grill",
   "metadata": {
    "id": "polish-grill"
   },
   "source": [
    "### Hash Table with Linear Probing\n",
    "\n",
    "We can now implement a hash table with linear probing.\n",
    "\n",
    "**QUESTION 5: Complete the hash table (with linear probing) implementation below by following the instructions in the comments.**"
   ]
  },
  {
   "cell_type": "code",
   "execution_count": 42,
   "id": "abstract-stanley",
   "metadata": {
    "executionInfo": {
     "elapsed": 228,
     "status": "ok",
     "timestamp": 1675769446846,
     "user": {
      "displayName": "Muhammad Zakriya",
      "userId": "16658765341696558064"
     },
     "user_tz": -180
    },
    "id": "abstract-stanley"
   },
   "outputs": [],
   "source": [
    "class ProbingHashTable:\n",
    "    def __init__(self, max_size=MAX_HASH_TABLE_SIZE):\n",
    "        # 1. Create a list of size `max_size` with all values None\n",
    "        self.data_list = [None] * max_size\n",
    "     \n",
    "    \n",
    "    def insert(self, key, value):\n",
    "        # 1. Find the index for the key using get_valid_index\n",
    "        idx = get_valid_index(self.data_list, key)\n",
    "        \n",
    "        # 2. Store the key-value pair at the right index\n",
    "        self.data_list[idx] = (key, value)\n",
    "    \n",
    "    \n",
    "    def find(self, key):\n",
    "        # 1. Find the index for the key using get_valid_index\n",
    "        idx = get_valid_index(self.data_list, key)\n",
    "        \n",
    "        # 2. Retrieve the data stored at the index\n",
    "        kv = self.data_list[idx]\n",
    "        \n",
    "        # 3. Return the value if found, else return None\n",
    "        return None if kv is None else kv[1]\n",
    "    \n",
    "    \n",
    "    def update(self, key, value):\n",
    "        # 1. Find the index for the key using get_valid_index\n",
    "        idx = get_valid_index(self.data_list, key)\n",
    "        \n",
    "        # 2. Store the new key-value pair at the right index\n",
    "        self.data_list[idx] = (key, value)\n",
    "\n",
    "    \n",
    "    def list_all(self):\n",
    "        # 1. Extract the key from each key-value pair \n",
    "        return [kv[0] for kv in self.data_list if kv is not None]"
   ]
  },
  {
   "cell_type": "markdown",
   "id": "happy-contributor",
   "metadata": {
    "id": "happy-contributor"
   },
   "source": [
    "If the `ProbingHashTable` class was defined correctly, the following cells should output `True`."
   ]
  },
  {
   "cell_type": "code",
   "execution_count": 43,
   "id": "strange-apache",
   "metadata": {
    "colab": {
     "base_uri": "https://localhost:8080/"
    },
    "executionInfo": {
     "elapsed": 278,
     "status": "ok",
     "timestamp": 1675769454997,
     "user": {
      "displayName": "Muhammad Zakriya",
      "userId": "16658765341696558064"
     },
     "user_tz": -180
    },
    "id": "strange-apache",
    "outputId": "5d6ca189-588d-442d-a925-b62119f21319"
   },
   "outputs": [
    {
     "data": {
      "text/plain": [
       "True"
      ]
     },
     "execution_count": 43,
     "metadata": {},
     "output_type": "execute_result"
    }
   ],
   "source": [
    "# Create a new hash table\n",
    "probing_table = ProbingHashTable()\n",
    "\n",
    "# Insert a value\n",
    "probing_table.insert('listen', 99)\n",
    "\n",
    "# Check the value\n",
    "probing_table.find('listen') == 99"
   ]
  },
  {
   "cell_type": "code",
   "execution_count": 44,
   "id": "lovely-boost",
   "metadata": {
    "colab": {
     "base_uri": "https://localhost:8080/"
    },
    "executionInfo": {
     "elapsed": 261,
     "status": "ok",
     "timestamp": 1675769466973,
     "user": {
      "displayName": "Muhammad Zakriya",
      "userId": "16658765341696558064"
     },
     "user_tz": -180
    },
    "id": "lovely-boost",
    "outputId": "526f779e-00e8-46bc-9e8a-220e96628ea0"
   },
   "outputs": [
    {
     "data": {
      "text/plain": [
       "True"
      ]
     },
     "execution_count": 44,
     "metadata": {},
     "output_type": "execute_result"
    }
   ],
   "source": [
    "# Insert a colliding key\n",
    "probing_table.insert('silent', 200)\n",
    "\n",
    "# Check the new and old keys\n",
    "probing_table.find('listen') == 99 and probing_table.find('silent') == 200"
   ]
  },
  {
   "cell_type": "code",
   "execution_count": 45,
   "id": "yellow-burlington",
   "metadata": {
    "colab": {
     "base_uri": "https://localhost:8080/"
    },
    "executionInfo": {
     "elapsed": 348,
     "status": "ok",
     "timestamp": 1675769474652,
     "user": {
      "displayName": "Muhammad Zakriya",
      "userId": "16658765341696558064"
     },
     "user_tz": -180
    },
    "id": "yellow-burlington",
    "outputId": "591c3ef4-c546-4e01-ab94-2adab3c6a45e"
   },
   "outputs": [
    {
     "data": {
      "text/plain": [
       "True"
      ]
     },
     "execution_count": 45,
     "metadata": {},
     "output_type": "execute_result"
    }
   ],
   "source": [
    "# Update a key\n",
    "probing_table.insert('listen', 101)\n",
    "\n",
    "# Check the value\n",
    "probing_table.find('listen') == 101"
   ]
  },
  {
   "cell_type": "code",
   "execution_count": 46,
   "id": "assumed-standing",
   "metadata": {
    "colab": {
     "base_uri": "https://localhost:8080/"
    },
    "executionInfo": {
     "elapsed": 331,
     "status": "ok",
     "timestamp": 1675769478713,
     "user": {
      "displayName": "Muhammad Zakriya",
      "userId": "16658765341696558064"
     },
     "user_tz": -180
    },
    "id": "assumed-standing",
    "outputId": "3f6bfc3d-bc9f-4d5e-9d2e-4fd2febd6ef6"
   },
   "outputs": [
    {
     "data": {
      "text/plain": [
       "True"
      ]
     },
     "execution_count": 46,
     "metadata": {},
     "output_type": "execute_result"
    }
   ],
   "source": [
    "probing_table.list_all() == ['listen', 'silent']"
   ]
  },
  {
   "cell_type": "markdown",
   "id": "precise-zambia",
   "metadata": {
    "id": "precise-zambia"
   },
   "source": [
    "(Optional) Test your implementation of `ProbingHashTable` using the empty cells below."
   ]
  },
  {
   "cell_type": "code",
   "execution_count": 48,
   "id": "ideal-retailer",
   "metadata": {
    "colab": {
     "base_uri": "https://localhost:8080/"
    },
    "executionInfo": {
     "elapsed": 319,
     "status": "ok",
     "timestamp": 1675769528000,
     "user": {
      "displayName": "Muhammad Zakriya",
      "userId": "16658765341696558064"
     },
     "user_tz": -180
    },
    "id": "ideal-retailer",
    "outputId": "cef81a7e-b42a-41e7-b5db-aaf3ecd4e8fb"
   },
   "outputs": [
    {
     "data": {
      "text/plain": [
       "['xor', 'or', 'not', 'and']"
      ]
     },
     "execution_count": 48,
     "metadata": {},
     "output_type": "execute_result"
    }
   ],
   "source": [
    "bht = ProbingHashTable(4)\n",
    "bht.insert('and', 1)\n",
    "bht.insert('or', 2)\n",
    "bht.insert('not', 3)\n",
    "bht.insert('xor', 4)\n",
    "bht.list_all()"
   ]
  },
  {
   "cell_type": "markdown",
   "id": "living-graphics",
   "metadata": {
    "id": "living-graphics"
   },
   "source": [
    "Save your work before continuing."
   ]
  },
  {
   "cell_type": "code",
   "execution_count": null,
   "id": "developed-sandwich",
   "metadata": {
    "id": "developed-sandwich",
    "outputId": "98f420dc-79ff-4ff3-fd7e-4d10358ff9f1"
   },
   "outputs": [
    {
     "data": {
      "application/javascript": [
       "window.require && require([\"base/js/namespace\"],function(Jupyter){Jupyter.notebook.save_checkpoint()})"
      ],
      "text/plain": [
       "<IPython.core.display.Javascript object>"
      ]
     },
     "metadata": {},
     "output_type": "display_data"
    },
    {
     "name": "stdout",
     "output_type": "stream",
     "text": [
      "[jovian] Attempting to save notebook..\u001b[0m\n",
      "[jovian] Updating notebook \"aakashns/python-hash-tables-assignment\" on https://jovian.ai/\u001b[0m\n",
      "[jovian] Uploading notebook..\u001b[0m\n",
      "[jovian] Capturing environment..\u001b[0m\n",
      "[jovian] Committed successfully! https://jovian.ai/aakashns/python-hash-tables-assignment\u001b[0m\n"
     ]
    },
    {
     "data": {
      "text/plain": [
       "'https://jovian.ai/aakashns/python-hash-tables-assignment'"
      ]
     },
     "execution_count": 62,
     "metadata": {},
     "output_type": "execute_result"
    }
   ],
   "source": [
    "#jovian.commit(project=project)"
   ]
  },
  {
   "cell_type": "markdown",
   "id": "lined-somalia",
   "metadata": {
    "id": "lined-somalia"
   },
   "source": [
    "### Make a Submission\n",
    "\n",
    "Congrats! You have now implemented hash tables from scratch. The rest of this assignment is optional. \n",
    "\n",
    "You can make a submission on this page: https://jovian.ai/learn/data-structures-and-algorithms-in-python/assignment/assignment-2-hash-table-and-python-dictionaries . Submit the link to your Jovian notebook (the output of the previous cell).\n",
    "\n",
    "\n",
    "You can also make a direct submission by executing the following cell:"
   ]
  },
  {
   "cell_type": "code",
   "execution_count": null,
   "id": "european-norwegian",
   "metadata": {
    "id": "european-norwegian"
   },
   "outputs": [],
   "source": [
    "#jovian.submit(assignment=\"pythondsa-assignment2\")"
   ]
  },
  {
   "cell_type": "markdown",
   "id": "frank-valve",
   "metadata": {
    "id": "frank-valve"
   },
   "source": [
    "If you are stuck, you can get help on the forum: https://jovian.ai/forum/c/data-structures-and-algorithms-in-python/assignment-2/88"
   ]
  },
  {
   "cell_type": "markdown",
   "id": "qualified-affairs",
   "metadata": {
    "id": "qualified-affairs"
   },
   "source": [
    "### (Optional) Python Dictionaries using Hash Tables\n",
    "\n",
    "We can now implement Python dictionaries using hash tables. Also, Python provides a built-in function called `hash` which we can use instead of our custom hash function. It is likely to have far fewer collisions\n",
    "\n",
    "**(Optional) Question: Implement a python-friendly interface for the hash table.**"
   ]
  },
  {
   "cell_type": "code",
   "execution_count": 51,
   "id": "typical-copper",
   "metadata": {
    "executionInfo": {
     "elapsed": 314,
     "status": "ok",
     "timestamp": 1675770261187,
     "user": {
      "displayName": "Muhammad Zakriya",
      "userId": "16658765341696558064"
     },
     "user_tz": -180
    },
    "id": "typical-copper"
   },
   "outputs": [],
   "source": [
    "MAX_HASH_TABLE_SIZE = 4096\n",
    "\n",
    "class HashTable:\n",
    "    def __init__(self, max_size=MAX_HASH_TABLE_SIZE):\n",
    "        self.data_list = [None] * max_size\n",
    "        \n",
    "    def get_valid_index(self, key):\n",
    "        # Use Python's in-built `hash` function and implement linear probing\n",
    "        idx = hash(key)\n",
    "        idx %= len(self.data_list)\n",
    "        while True:\n",
    "          kv = self.data_list[idx]\n",
    "          if kv is None:\n",
    "            return idx\n",
    "          k, v = kv\n",
    "          if k == key:\n",
    "            return idx\n",
    "          idx += 1\n",
    "          if idx == len(self.data_list):\n",
    "            idx = 0\n",
    "        \n",
    "    def __getitem__(self, key):\n",
    "        # Implement the logic for \"find\" here\n",
    "        idx = self.get_valid_index(key)\n",
    "        kv = self.data_list[idx]\n",
    "        return kv[1] if kv is not None else None\n",
    "    \n",
    "    def __setitem__(self, key, value):\n",
    "        # Implement the logic for \"insert/update\" here\n",
    "        idx = self.get_valid_index(key)\n",
    "        self.data_list[idx] = (key, value)\n",
    "    \n",
    "    def __iter__(self):\n",
    "        return (x for x in self.data_list if x is not None)\n",
    "    \n",
    "    def __len__(self):\n",
    "        return len([x for x in self])\n",
    "    \n",
    "    def __repr__(self):\n",
    "        from textwrap import indent\n",
    "        pairs = [indent(\"{} : {}\".format(repr(kv[0]), repr(kv[1])), '  ') for kv in self]\n",
    "        return \"{\\n\" + \"{}\".format(',\\n'.join(pairs)) + \"\\n}\"\n",
    "    \n",
    "    def __str__(self):\n",
    "        return repr(self)"
   ]
  },
  {
   "cell_type": "markdown",
   "id": "popular-warren",
   "metadata": {
    "id": "popular-warren"
   },
   "source": [
    "If the `HashTable` class was defined correctly, the following cells should output `True`."
   ]
  },
  {
   "cell_type": "code",
   "execution_count": 52,
   "id": "controlling-estate",
   "metadata": {
    "colab": {
     "base_uri": "https://localhost:8080/"
    },
    "executionInfo": {
     "elapsed": 408,
     "status": "ok",
     "timestamp": 1675770264366,
     "user": {
      "displayName": "Muhammad Zakriya",
      "userId": "16658765341696558064"
     },
     "user_tz": -180
    },
    "id": "controlling-estate",
    "outputId": "db18efa7-1f43-468b-b656-cee9e6cce838"
   },
   "outputs": [
    {
     "data": {
      "text/plain": [
       "True"
      ]
     },
     "execution_count": 52,
     "metadata": {},
     "output_type": "execute_result"
    }
   ],
   "source": [
    "# Create a hash table\n",
    "table = HashTable()\n",
    "\n",
    "# Insert some key-value pairs\n",
    "table['a'] = 1\n",
    "table['b'] = 34\n",
    "\n",
    "# Retrieve the inserted values\n",
    "table['a'] == 1 and table['b'] == 34"
   ]
  },
  {
   "cell_type": "code",
   "execution_count": 53,
   "id": "driving-afternoon",
   "metadata": {
    "colab": {
     "base_uri": "https://localhost:8080/"
    },
    "executionInfo": {
     "elapsed": 336,
     "status": "ok",
     "timestamp": 1675770269819,
     "user": {
      "displayName": "Muhammad Zakriya",
      "userId": "16658765341696558064"
     },
     "user_tz": -180
    },
    "id": "driving-afternoon",
    "outputId": "f45a77f4-882e-45ba-806b-f83e72497024"
   },
   "outputs": [
    {
     "data": {
      "text/plain": [
       "True"
      ]
     },
     "execution_count": 53,
     "metadata": {},
     "output_type": "execute_result"
    }
   ],
   "source": [
    "# Update a value\n",
    "table['a'] = 99\n",
    "\n",
    "# Check the updated value\n",
    "table['a'] == 99"
   ]
  },
  {
   "cell_type": "code",
   "execution_count": 54,
   "id": "restricted-power",
   "metadata": {
    "colab": {
     "base_uri": "https://localhost:8080/"
    },
    "executionInfo": {
     "elapsed": 306,
     "status": "ok",
     "timestamp": 1675770275209,
     "user": {
      "displayName": "Muhammad Zakriya",
      "userId": "16658765341696558064"
     },
     "user_tz": -180
    },
    "id": "restricted-power",
    "outputId": "3e48d1e2-a58a-4243-892b-8c6268b8a885"
   },
   "outputs": [
    {
     "data": {
      "text/plain": [
       "False"
      ]
     },
     "execution_count": 54,
     "metadata": {},
     "output_type": "execute_result"
    }
   ],
   "source": [
    "# Get a list of key-value pairs\n",
    "list(table) == [('a', 99), ('b', 34)]"
   ]
  },
  {
   "cell_type": "markdown",
   "id": "hispanic-depth",
   "metadata": {
    "id": "hispanic-depth"
   },
   "source": [
    "Since we have also implemented the `__repr__` and `__str__` functions, the output of the next cell should be:\n",
    "\n",
    "```\n",
    "{\n",
    "  'a' : 99,\n",
    "  'b' : 34\n",
    "}\n",
    "```"
   ]
  },
  {
   "cell_type": "code",
   "execution_count": 55,
   "id": "black-cedar",
   "metadata": {
    "colab": {
     "base_uri": "https://localhost:8080/"
    },
    "executionInfo": {
     "elapsed": 375,
     "status": "ok",
     "timestamp": 1675770296378,
     "user": {
      "displayName": "Muhammad Zakriya",
      "userId": "16658765341696558064"
     },
     "user_tz": -180
    },
    "id": "black-cedar",
    "outputId": "8e4c7ab5-93e6-4ab8-dd1e-9cb2bfbc7768"
   },
   "outputs": [
    {
     "data": {
      "text/plain": [
       "{\n",
       "  'b' : 34,\n",
       "  'a' : 99\n",
       "}"
      ]
     },
     "execution_count": 55,
     "metadata": {},
     "output_type": "execute_result"
    }
   ],
   "source": [
    "table"
   ]
  },
  {
   "cell_type": "markdown",
   "id": "electrical-aberdeen",
   "metadata": {
    "id": "electrical-aberdeen"
   },
   "source": [
    "Let's save our work before continuing."
   ]
  },
  {
   "cell_type": "code",
   "execution_count": null,
   "id": "apparent-spider",
   "metadata": {
    "id": "apparent-spider"
   },
   "outputs": [],
   "source": [
    "#import jovian"
   ]
  },
  {
   "cell_type": "code",
   "execution_count": null,
   "id": "tropical-singer",
   "metadata": {
    "id": "tropical-singer",
    "outputId": "5da0382d-a597-44bd-b301-760578624fbe"
   },
   "outputs": [
    {
     "data": {
      "application/javascript": [
       "window.require && require([\"base/js/namespace\"],function(Jupyter){Jupyter.notebook.save_checkpoint()})"
      ],
      "text/plain": [
       "<IPython.core.display.Javascript object>"
      ]
     },
     "metadata": {},
     "output_type": "display_data"
    },
    {
     "name": "stdout",
     "output_type": "stream",
     "text": [
      "[jovian] Attempting to save notebook..\u001b[0m\n",
      "[jovian] Updating notebook \"aakashns/python-hash-tables-assignment\" on https://jovian.ai/\u001b[0m\n",
      "[jovian] Uploading notebook..\u001b[0m\n",
      "[jovian] Capturing environment..\u001b[0m\n",
      "[jovian] Committed successfully! https://jovian.ai/aakashns/python-hash-tables-assignment\u001b[0m\n"
     ]
    },
    {
     "data": {
      "text/plain": [
       "'https://jovian.ai/aakashns/python-hash-tables-assignment'"
      ]
     },
     "execution_count": 92,
     "metadata": {},
     "output_type": "execute_result"
    }
   ],
   "source": [
    "#jovian.commit(project=project)"
   ]
  },
  {
   "cell_type": "markdown",
   "id": "great-piece",
   "metadata": {
    "id": "great-piece"
   },
   "source": [
    "### (Optional) Hash Table Improvements\n",
    "\n",
    "Here are some more improvements/changes you can make to your hash table implementation:\n",
    "\n",
    "* **Track the size of the hash table** i.e. number of key-value pairs so that `len(table)` has complexity O(1).\n",
    "* **Implement deletion with tombstones** as described here: https://research.cs.vt.edu/AVresearch/hashing/deletion.php\n",
    "* **Implement dynamic resizing** to automatically grow/shrink the data list: https://charlesreid1.com/wiki/Hash_Maps/Dynamic_Resizing\n",
    "* **Implement separate chaining**, an alternative to linear probing for collision resolution: https://www.youtube.com/watch/T9gct6Dx-jo\n"
   ]
  },
  {
   "cell_type": "markdown",
   "id": "annoying-background",
   "metadata": {
    "id": "annoying-background"
   },
   "source": [
    "### (Optional) Complexity Analysis\n",
    "\n",
    "With choice of a good hashing function and other improvements like dynamic resizing, you can \n",
    "\n",
    "\n",
    "| Operation      | Average-case time complexity | Worst-case time complexity |\n",
    "| ----------- | ----------- |---------|\n",
    "| Insert/Update      | **O(1)**    | **O(n)**|\n",
    "| Find   | **O(1)**    | **O(n)**|\n",
    "| Delete   | **O(1)**    | **O(n)**|\n",
    "| List   | **O(n)**    | **O(n)**|\n",
    "\n",
    "\n",
    "Here are some questions to ponder upon?\n",
    "\n",
    "- What is average case complexity? How does it differ from worst-case complexity?\n",
    "- Do you see why insert/find/update have average-case complexity of O(1) and worst-case complexity of O(n) ?\n",
    "- How is the complexity of hash tables different from binary search trees?\n",
    "- When should you prefer using hash table over binary trees or vice versa?\n",
    "\n",
    "Discuss your answers on the forum: https://jovian.ai/forum/c/data-structures-and-algorithms-in-python/assignment-2/88"
   ]
  }
 ],
 "metadata": {
  "colab": {
   "provenance": [],
   "toc_visible": true
  },
  "language_info": {
   "codemirror_mode": {
    "name": "ipython",
    "version": 3
   },
   "file_extension": ".py",
   "mimetype": "text/x-python",
   "name": "python",
   "nbconvert_exporter": "python",
   "pygments_lexer": "ipython3",
   "version": "3.6.12"
  }
 },
 "nbformat": 4,
 "nbformat_minor": 5
}